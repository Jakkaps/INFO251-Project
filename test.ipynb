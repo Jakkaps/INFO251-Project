{
 "cells": [
  {
   "cell_type": "code",
   "execution_count": null,
   "metadata": {},
   "outputs": [],
   "source": [
    "import os\n",
    "import torch\n",
    "import numpy as np\n",
    "import warnings\n",
    "from settings import OUT_DIR, IMAGE_HEIGHT, IMAGE_WIDTH\n",
    "from core.models.nts_net import NTSModel\n",
    "from tqdm import tqdm\n",
    "import torch.nn as nn\n",
    "from torch.utils.data import DataLoader\n",
    "from torchvision.transforms import Compose, Resize, ToTensor\n",
    "from torchvision.datasets import FGVCAircraft\n",
    "from PIL import Image\n",
    "\n",
    "warnings.filterwarnings(\"ignore\")"
   ]
  },
  {
   "attachments": {},
   "cell_type": "markdown",
   "metadata": {},
   "source": [
    "### Define the test function"
   ]
  },
  {
   "cell_type": "code",
   "execution_count": null,
   "metadata": {},
   "outputs": [],
   "source": [
    "def test(model_file, test_data, batch_size):\n",
    "\n",
    "    # Identify device\n",
    "    device = torch.device(\"cuda\" if torch.cuda.is_available() else \"cpu\")\n",
    "\n",
    "    # Load the model\n",
    "    ckpt = torch.load(model_file)\n",
    "    model = NTSModel(top_n=ckpt[\"proposal_num\"], n_classes=ckpt[\"n_classes\"], image_height=IMAGE_HEIGHT, image_width=IMAGE_WIDTH).to(device)\n",
    "    model.load_state_dict(ckpt[\"state_dict\"])\n",
    "    model = nn.DataParallel(model)\n",
    "\n",
    "    # Setup dataloader\n",
    "    test_loader = DataLoader(test_data, batch_size=batch_size, shuffle=True, num_workers=2)\n",
    "\n",
    "    y_pred = []\n",
    "    y_true = []\n",
    "    with tqdm(total=(len(test_loader))) as pbar:\n",
    "        with torch.no_grad():\n",
    "            for i, (inputs, labels) in enumerate(test_loader):\n",
    "                inputs, labels = inputs.to(device), labels.to(device)\n",
    "                batch_size = inputs.size(0)\n",
    "                y_true += labels.cpu().detach().numpy().astype(int).tolist()\n",
    "                _, concat_logits, _, _, _ = model(inputs)\n",
    "                y_pred += concat_logits.argmax(dim=1).cpu().detach().numpy().astype(int).tolist()\n",
    "\n",
    "                pbar.update(1)\n",
    "\n",
    "    y_pred = np.array(y_pred)\n",
    "    y_true = np.array(y_true)\n",
    "\n",
    "    accuracy = np.mean(y_pred == y_true)\n",
    "    print(\"Accuracy:\", accuracy)\n",
    "\n",
    "    return y_true, y_pred\n"
   ]
  },
  {
   "attachments": {},
   "cell_type": "markdown",
   "metadata": {},
   "source": [
    "### Load the test data"
   ]
  },
  {
   "cell_type": "code",
   "execution_count": null,
   "metadata": {},
   "outputs": [],
   "source": [
    "transform = Compose([\n",
    "  Resize((IMAGE_HEIGHT, IMAGE_WIDTH), Image.BILINEAR),\n",
    "  ToTensor(),\n",
    "])\n",
    "\n",
    "test_data = FGVCAircraft(root=\"data\", split=\"test\", transform=transform, download=True)\n",
    "\n",
    "print(\"Test data size:\", len(test_data))"
   ]
  },
  {
   "attachments": {},
   "cell_type": "markdown",
   "metadata": {},
   "source": [
    "### Test the model"
   ]
  },
  {
   "cell_type": "code",
   "execution_count": null,
   "metadata": {},
   "outputs": [],
   "source": [
    "BATCH_SIZE = 8\n",
    "\n",
    "# Load model weights\n",
    "model_file = os.path.join(OUT_DIR, \"latest_model.ckpt\")\n",
    "\n",
    "y_true, y_pred = test(model_file, test_data, batch_size=BATCH_SIZE)"
   ]
  },
  {
   "attachments": {},
   "cell_type": "markdown",
   "metadata": {},
   "source": [
    "### Create classification report"
   ]
  },
  {
   "cell_type": "code",
   "execution_count": null,
   "metadata": {},
   "outputs": [],
   "source": [
    "import pandas as pd\n",
    "from sklearn.metrics import classification_report\n",
    "from sklearn.preprocessing import OneHotEncoder\n",
    "\n",
    "classes = test_data.classes\n",
    "ohe = OneHotEncoder()\n",
    "y_true_enc = ohe.fit_transform(y_true.reshape(-1, 1)).toarray()\n",
    "y_pred_enc = ohe.transform(y_pred.reshape(-1, 1)).toarray()\n",
    "\n",
    "report = classification_report(y_true_enc, y_pred_enc, target_names=classes, output_dict=True)\n",
    "\n",
    "df_report = pd.DataFrame(report).transpose()[:-4]"
   ]
  },
  {
   "attachments": {},
   "cell_type": "markdown",
   "metadata": {},
   "source": [
    "#### Top 10 performers"
   ]
  },
  {
   "cell_type": "code",
   "execution_count": null,
   "metadata": {},
   "outputs": [],
   "source": [
    "df_report.sort_values(\"recall\", ascending=False).head(10)"
   ]
  },
  {
   "attachments": {},
   "cell_type": "markdown",
   "metadata": {},
   "source": [
    "#### Top 10 worst performers"
   ]
  },
  {
   "cell_type": "code",
   "execution_count": null,
   "metadata": {},
   "outputs": [],
   "source": [
    "df_report.sort_values(\"recall\", ascending=True).head(10)"
   ]
  }
 ],
 "metadata": {
  "kernelspec": {
   "display_name": "info",
   "language": "python",
   "name": "python3"
  },
  "language_info": {
   "codemirror_mode": {
    "name": "ipython",
    "version": 3
   },
   "file_extension": ".py",
   "mimetype": "text/x-python",
   "name": "python",
   "nbconvert_exporter": "python",
   "pygments_lexer": "ipython3",
   "version": "3.8.16"
  },
  "orig_nbformat": 4
 },
 "nbformat": 4,
 "nbformat_minor": 2
}
