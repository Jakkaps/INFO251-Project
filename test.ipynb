{
 "cells": [
  {
   "cell_type": "code",
   "execution_count": 1,
   "metadata": {},
   "outputs": [],
   "source": [
    "import os\n",
    "import torch\n",
    "import numpy as np\n",
    "import warnings\n",
    "from settings import OUT_DIR, IMAGE_HEIGHT, IMAGE_WIDTH\n",
    "from core.models.nts_net import NTSModel\n",
    "from tqdm import tqdm\n",
    "import torch.nn as nn\n",
    "from torch.utils.data import DataLoader\n",
    "from torchvision.transforms import Compose, Resize, ToTensor\n",
    "from torchvision.datasets import FGVCAircraft\n",
    "from PIL import Image\n",
    "\n",
    "warnings.filterwarnings(\"ignore\")"
   ]
  },
  {
   "attachments": {},
   "cell_type": "markdown",
   "metadata": {},
   "source": [
    "### Define the test function"
   ]
  },
  {
   "cell_type": "code",
   "execution_count": 2,
   "metadata": {},
   "outputs": [],
   "source": [
    "def test(model_file, test_data, batch_size):\n",
    "\n",
    "    # Identify device\n",
    "    device = torch.device(\"cuda\" if torch.cuda.is_available() else \"cpu\")\n",
    "\n",
    "    # Load the model\n",
    "    ckpt = torch.load(model_file)\n",
    "    model = NTSModel(top_n=ckpt[\"proposal_num\"], n_classes=ckpt[\"n_classes\"], image_height=IMAGE_HEIGHT, image_width=IMAGE_WIDTH).to(device)\n",
    "    model.load_state_dict(ckpt[\"state_dict\"])\n",
    "    model = nn.DataParallel(model)\n",
    "\n",
    "    # Setup dataloader\n",
    "    test_loader = DataLoader(test_data, batch_size=batch_size, shuffle=True, num_workers=2)\n",
    "\n",
    "    y_pred = []\n",
    "    y_true = []\n",
    "    with tqdm(total=(len(test_loader))) as pbar:\n",
    "        with torch.no_grad():\n",
    "            for i, (inputs, labels) in enumerate(test_loader):\n",
    "                inputs, labels = inputs.to(device), labels.to(device)\n",
    "                batch_size = inputs.size(0)\n",
    "                y_true += labels.cpu().detach().numpy().astype(int).tolist()\n",
    "                _, concat_logits, _, _, _ = model(inputs)\n",
    "                y_pred += concat_logits.argmax(dim=1).cpu().detach().numpy().astype(int).tolist()\n",
    "\n",
    "                pbar.update(1)\n",
    "\n",
    "    y_pred = np.array(y_pred)\n",
    "    y_true = np.array(y_true)\n",
    "\n",
    "    accuracy = np.mean(y_pred == y_true)\n",
    "    print(\"Accuracy:\", accuracy)\n",
    "\n",
    "    return y_true, y_pred\n"
   ]
  },
  {
   "attachments": {},
   "cell_type": "markdown",
   "metadata": {},
   "source": [
    "### Load the test data"
   ]
  },
  {
   "cell_type": "code",
   "execution_count": 3,
   "metadata": {},
   "outputs": [
    {
     "name": "stdout",
     "output_type": "stream",
     "text": [
      "Test data size: 3333\n"
     ]
    }
   ],
   "source": [
    "transform = Compose([\n",
    "  Resize((IMAGE_HEIGHT, IMAGE_WIDTH), Image.BILINEAR),\n",
    "  ToTensor(),\n",
    "])\n",
    "\n",
    "test_data = FGVCAircraft(root=\"data\", split=\"test\", transform=transform, download=True)\n",
    "\n",
    "print(\"Test data size:\", len(test_data))"
   ]
  },
  {
   "attachments": {},
   "cell_type": "markdown",
   "metadata": {},
   "source": [
    "### Test the model"
   ]
  },
  {
   "cell_type": "code",
   "execution_count": 4,
   "metadata": {},
   "outputs": [
    {
     "name": "stderr",
     "output_type": "stream",
     "text": [
      "100%|██████████| 417/417 [00:50<00:00,  8.19it/s]"
     ]
    },
    {
     "name": "stdout",
     "output_type": "stream",
     "text": [
      "Accuracy: 0.7962796279627963\n"
     ]
    },
    {
     "name": "stderr",
     "output_type": "stream",
     "text": [
      "\n"
     ]
    }
   ],
   "source": [
    "BATCH_SIZE = 8\n",
    "\n",
    "# Load model weights\n",
    "model_file = os.path.join(OUT_DIR, \"latest_model.ckpt\")\n",
    "\n",
    "y_true, y_pred = test(model_file, test_data, batch_size=BATCH_SIZE)"
   ]
  },
  {
   "attachments": {},
   "cell_type": "markdown",
   "metadata": {},
   "source": [
    "### Create classification report"
   ]
  },
  {
   "cell_type": "code",
   "execution_count": 5,
   "metadata": {},
   "outputs": [],
   "source": [
    "import pandas as pd\n",
    "from sklearn.metrics import classification_report\n",
    "from sklearn.preprocessing import OneHotEncoder\n",
    "\n",
    "classes = test_data.classes\n",
    "ohe = OneHotEncoder()\n",
    "y_true_enc = ohe.fit_transform(y_true.reshape(-1, 1)).toarray()\n",
    "y_pred_enc = ohe.transform(y_pred.reshape(-1, 1)).toarray()\n",
    "\n",
    "report = classification_report(y_true_enc, y_pred_enc, target_names=classes, output_dict=True)\n",
    "\n",
    "df_report = pd.DataFrame(report).transpose()[:-4]"
   ]
  },
  {
   "attachments": {},
   "cell_type": "markdown",
   "metadata": {},
   "source": [
    "#### Top 10 performers"
   ]
  },
  {
   "cell_type": "code",
   "execution_count": 6,
   "metadata": {},
   "outputs": [
    {
     "data": {
      "text/html": [
       "<div>\n",
       "<style scoped>\n",
       "    .dataframe tbody tr th:only-of-type {\n",
       "        vertical-align: middle;\n",
       "    }\n",
       "\n",
       "    .dataframe tbody tr th {\n",
       "        vertical-align: top;\n",
       "    }\n",
       "\n",
       "    .dataframe thead th {\n",
       "        text-align: right;\n",
       "    }\n",
       "</style>\n",
       "<table border=\"1\" class=\"dataframe\">\n",
       "  <thead>\n",
       "    <tr style=\"text-align: right;\">\n",
       "      <th></th>\n",
       "      <th>precision</th>\n",
       "      <th>recall</th>\n",
       "      <th>f1-score</th>\n",
       "      <th>support</th>\n",
       "    </tr>\n",
       "  </thead>\n",
       "  <tbody>\n",
       "    <tr>\n",
       "      <th>Tornado</th>\n",
       "      <td>0.891892</td>\n",
       "      <td>1.000000</td>\n",
       "      <td>0.942857</td>\n",
       "      <td>33.0</td>\n",
       "    </tr>\n",
       "    <tr>\n",
       "      <th>SR-20</th>\n",
       "      <td>1.000000</td>\n",
       "      <td>1.000000</td>\n",
       "      <td>1.000000</td>\n",
       "      <td>34.0</td>\n",
       "    </tr>\n",
       "    <tr>\n",
       "      <th>C-130</th>\n",
       "      <td>0.868421</td>\n",
       "      <td>1.000000</td>\n",
       "      <td>0.929577</td>\n",
       "      <td>33.0</td>\n",
       "    </tr>\n",
       "    <tr>\n",
       "      <th>Cessna 172</th>\n",
       "      <td>1.000000</td>\n",
       "      <td>0.970588</td>\n",
       "      <td>0.985075</td>\n",
       "      <td>34.0</td>\n",
       "    </tr>\n",
       "    <tr>\n",
       "      <th>DHC-6</th>\n",
       "      <td>0.942857</td>\n",
       "      <td>0.970588</td>\n",
       "      <td>0.956522</td>\n",
       "      <td>34.0</td>\n",
       "    </tr>\n",
       "    <tr>\n",
       "      <th>Eurofighter Typhoon</th>\n",
       "      <td>0.942857</td>\n",
       "      <td>0.970588</td>\n",
       "      <td>0.956522</td>\n",
       "      <td>34.0</td>\n",
       "    </tr>\n",
       "    <tr>\n",
       "      <th>An-12</th>\n",
       "      <td>0.969697</td>\n",
       "      <td>0.969697</td>\n",
       "      <td>0.969697</td>\n",
       "      <td>33.0</td>\n",
       "    </tr>\n",
       "    <tr>\n",
       "      <th>Saab 2000</th>\n",
       "      <td>0.864865</td>\n",
       "      <td>0.969697</td>\n",
       "      <td>0.914286</td>\n",
       "      <td>33.0</td>\n",
       "    </tr>\n",
       "    <tr>\n",
       "      <th>Model B200</th>\n",
       "      <td>0.761905</td>\n",
       "      <td>0.969697</td>\n",
       "      <td>0.853333</td>\n",
       "      <td>33.0</td>\n",
       "    </tr>\n",
       "    <tr>\n",
       "      <th>Cessna 525</th>\n",
       "      <td>0.969697</td>\n",
       "      <td>0.969697</td>\n",
       "      <td>0.969697</td>\n",
       "      <td>33.0</td>\n",
       "    </tr>\n",
       "  </tbody>\n",
       "</table>\n",
       "</div>"
      ],
      "text/plain": [
       "                     precision    recall  f1-score  support\n",
       "Tornado               0.891892  1.000000  0.942857     33.0\n",
       "SR-20                 1.000000  1.000000  1.000000     34.0\n",
       "C-130                 0.868421  1.000000  0.929577     33.0\n",
       "Cessna 172            1.000000  0.970588  0.985075     34.0\n",
       "DHC-6                 0.942857  0.970588  0.956522     34.0\n",
       "Eurofighter Typhoon   0.942857  0.970588  0.956522     34.0\n",
       "An-12                 0.969697  0.969697  0.969697     33.0\n",
       "Saab 2000             0.864865  0.969697  0.914286     33.0\n",
       "Model B200            0.761905  0.969697  0.853333     33.0\n",
       "Cessna 525            0.969697  0.969697  0.969697     33.0"
      ]
     },
     "execution_count": 6,
     "metadata": {},
     "output_type": "execute_result"
    }
   ],
   "source": [
    "df_report.sort_values(\"recall\", ascending=False).head(10)"
   ]
  },
  {
   "attachments": {},
   "cell_type": "markdown",
   "metadata": {},
   "source": [
    "#### Top 10 worst performers"
   ]
  },
  {
   "cell_type": "code",
   "execution_count": 7,
   "metadata": {},
   "outputs": [
    {
     "data": {
      "text/html": [
       "<div>\n",
       "<style scoped>\n",
       "    .dataframe tbody tr th:only-of-type {\n",
       "        vertical-align: middle;\n",
       "    }\n",
       "\n",
       "    .dataframe tbody tr th {\n",
       "        vertical-align: top;\n",
       "    }\n",
       "\n",
       "    .dataframe thead th {\n",
       "        text-align: right;\n",
       "    }\n",
       "</style>\n",
       "<table border=\"1\" class=\"dataframe\">\n",
       "  <thead>\n",
       "    <tr style=\"text-align: right;\">\n",
       "      <th></th>\n",
       "      <th>precision</th>\n",
       "      <th>recall</th>\n",
       "      <th>f1-score</th>\n",
       "      <th>support</th>\n",
       "    </tr>\n",
       "  </thead>\n",
       "  <tbody>\n",
       "    <tr>\n",
       "      <th>C-47</th>\n",
       "      <td>0.518519</td>\n",
       "      <td>0.424242</td>\n",
       "      <td>0.466667</td>\n",
       "      <td>33.0</td>\n",
       "    </tr>\n",
       "    <tr>\n",
       "      <th>747-200</th>\n",
       "      <td>0.500000</td>\n",
       "      <td>0.441176</td>\n",
       "      <td>0.468750</td>\n",
       "      <td>34.0</td>\n",
       "    </tr>\n",
       "    <tr>\n",
       "      <th>MD-87</th>\n",
       "      <td>0.640000</td>\n",
       "      <td>0.484848</td>\n",
       "      <td>0.551724</td>\n",
       "      <td>33.0</td>\n",
       "    </tr>\n",
       "    <tr>\n",
       "      <th>MD-90</th>\n",
       "      <td>0.516129</td>\n",
       "      <td>0.484848</td>\n",
       "      <td>0.500000</td>\n",
       "      <td>33.0</td>\n",
       "    </tr>\n",
       "    <tr>\n",
       "      <th>DC-3</th>\n",
       "      <td>0.485714</td>\n",
       "      <td>0.500000</td>\n",
       "      <td>0.492754</td>\n",
       "      <td>34.0</td>\n",
       "    </tr>\n",
       "    <tr>\n",
       "      <th>MD-80</th>\n",
       "      <td>0.485714</td>\n",
       "      <td>0.500000</td>\n",
       "      <td>0.492754</td>\n",
       "      <td>34.0</td>\n",
       "    </tr>\n",
       "    <tr>\n",
       "      <th>A330-300</th>\n",
       "      <td>0.600000</td>\n",
       "      <td>0.545455</td>\n",
       "      <td>0.571429</td>\n",
       "      <td>33.0</td>\n",
       "    </tr>\n",
       "    <tr>\n",
       "      <th>737-300</th>\n",
       "      <td>0.500000</td>\n",
       "      <td>0.545455</td>\n",
       "      <td>0.521739</td>\n",
       "      <td>33.0</td>\n",
       "    </tr>\n",
       "    <tr>\n",
       "      <th>757-200</th>\n",
       "      <td>0.760000</td>\n",
       "      <td>0.558824</td>\n",
       "      <td>0.644068</td>\n",
       "      <td>34.0</td>\n",
       "    </tr>\n",
       "    <tr>\n",
       "      <th>737-500</th>\n",
       "      <td>0.633333</td>\n",
       "      <td>0.558824</td>\n",
       "      <td>0.593750</td>\n",
       "      <td>34.0</td>\n",
       "    </tr>\n",
       "  </tbody>\n",
       "</table>\n",
       "</div>"
      ],
      "text/plain": [
       "          precision    recall  f1-score  support\n",
       "C-47       0.518519  0.424242  0.466667     33.0\n",
       "747-200    0.500000  0.441176  0.468750     34.0\n",
       "MD-87      0.640000  0.484848  0.551724     33.0\n",
       "MD-90      0.516129  0.484848  0.500000     33.0\n",
       "DC-3       0.485714  0.500000  0.492754     34.0\n",
       "MD-80      0.485714  0.500000  0.492754     34.0\n",
       "A330-300   0.600000  0.545455  0.571429     33.0\n",
       "737-300    0.500000  0.545455  0.521739     33.0\n",
       "757-200    0.760000  0.558824  0.644068     34.0\n",
       "737-500    0.633333  0.558824  0.593750     34.0"
      ]
     },
     "execution_count": 7,
     "metadata": {},
     "output_type": "execute_result"
    }
   ],
   "source": [
    "df_report.sort_values(\"recall\", ascending=True).head(10)"
   ]
  }
 ],
 "metadata": {
  "kernelspec": {
   "display_name": "info",
   "language": "python",
   "name": "python3"
  },
  "language_info": {
   "codemirror_mode": {
    "name": "ipython",
    "version": 3
   },
   "file_extension": ".py",
   "mimetype": "text/x-python",
   "name": "python",
   "nbconvert_exporter": "python",
   "pygments_lexer": "ipython3",
   "version": "3.8.16"
  },
  "orig_nbformat": 4
 },
 "nbformat": 4,
 "nbformat_minor": 2
}
