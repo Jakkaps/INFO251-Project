{
 "cells": [
  {
   "cell_type": "code",
   "execution_count": null,
   "metadata": {},
   "outputs": [],
   "source": [
    "from IPython.display import display\n",
    "import tqdm\n",
    "import random\n",
    "from matplotlib import pyplot as plt\n",
    "\n",
    "import torch\n",
    "from torch.utils.data import DataLoader\n",
    "import torch.nn as nn\n",
    "from torchvision import datasets, transforms\n",
    "\n",
    "import wandb\n",
    "wandb.login()\n",
    "wandb_proj = 'fgvca_aircraft'"
   ]
  },
  {
   "cell_type": "code",
   "execution_count": null,
   "metadata": {},
   "outputs": [],
   "source": [
    "height, width = 100, 150\n",
    "ts = transforms.Compose([transforms.Resize((height, width)), transforms.ToTensor()])\n",
    "fgvca = datasets.FGVCAircraft(root='data', download=True, transform=ts)\n",
    "classes = fgvca.classes"
   ]
  },
  {
   "cell_type": "code",
   "execution_count": null,
   "metadata": {},
   "outputs": [],
   "source": [
    "n_samples = 3\n",
    "\n",
    "for _ in range(n_samples):\n",
    "    idx = random.randint(0, len(fgvca))\n",
    "    img, label_idx =  fgvca[idx]\n",
    "    img = img.permute(1, 2, 0)\n",
    "    plt.imshow(img.numpy())\n",
    "    plt.show()"
   ]
  },
  {
   "attachments": {},
   "cell_type": "markdown",
   "metadata": {},
   "source": [
    "## Feed forward neural network"
   ]
  },
  {
   "cell_type": "code",
   "execution_count": null,
   "metadata": {},
   "outputs": [],
   "source": [
    "\n",
    "# Define the FFNN model\n",
    "class FFNN(nn.Module):\n",
    "    def __init__(self, input_size, hidden_size, output_size):\n",
    "        super(FFNN, self).__init__()\n",
    "        self.fc1 = nn.Linear(input_size, hidden_size)\n",
    "        self.relu = nn.ReLU()\n",
    "        self.fc2 = nn.Linear(hidden_size, output_size)\n",
    "\n",
    "    def forward(self, x):\n",
    "        out = self.fc1(x)\n",
    "        out = self.relu(out)\n",
    "        out = self.fc2(out)\n",
    "        return out"
   ]
  },
  {
   "cell_type": "code",
   "execution_count": null,
   "metadata": {},
   "outputs": [],
   "source": [
    "# Define the model hyperparameters\n",
    "input_size = width * height * 3 # 3 for RGB\n",
    "hidden_size = 64\n",
    "output_size = len(classes)\n",
    "lr = 0.001\n",
    "batch_size = 32\n",
    "epochs = 1\n",
    "\n",
    "run_config = {\n",
    "    'height': height,\n",
    "    'width': width,\n",
    "    'learning_rate': lr,\n",
    "    'epochs': epochs,\n",
    "    'batch_size': batch_size,\n",
    "    'architecture': 'FFNN',\n",
    "    'optimizer': 'Adam'\n",
    "}\n",
    "\n",
    "# Create the data loader\n",
    "train_loader = DataLoader(dataset=fgvca, batch_size=batch_size, shuffle=True)\n",
    "\n",
    "# Create the FFNN model instance\n",
    "model = FFNN(input_size, hidden_size, output_size)\n",
    "\n",
    "# Define the loss function and optimizer\n",
    "criterion = nn.CrossEntropyLoss()\n",
    "optimizer = torch.optim.Adam(model.parameters(), lr=lr)\n",
    "\n",
    "# Log model to wandb \n",
    "wandb.init(\n",
    "    project=wandb_proj,\n",
    "    config=run_config,\n",
    ")\n",
    "\n",
    "\n",
    "# Train the model\n",
    "num_batches = len(train_loader) // batch_size\n",
    "for epoch in range(epochs):\n",
    "    correct = 0\n",
    "    acc = 0\n",
    "    epoch_loss = 0\n",
    "    for inputs, labels in tqdm.tqdm(train_loader, total=len(train_loader)):\n",
    "        # Forward pass\n",
    "        outputs = model(inputs.view(-1, input_size))\n",
    "        loss = criterion(outputs, labels)\n",
    "\n",
    "        # Backward and optimize\n",
    "        optimizer.zero_grad()\n",
    "        loss.backward()\n",
    "        optimizer.step()\n",
    "\n",
    "        correct += (torch.max(outputs, dim=1).indices == labels).sum().item()\n",
    "        epoch_loss += loss.item()\n",
    "\n",
    "    # Print the training progress\n",
    "    acc = correct / len(fgvca)\n",
    "    loss = epoch_loss / num_batches\n",
    "    wandb.log({\"acc\": acc, \"loss\": loss})\n",
    "    print(f'Epoch {epoch + 1}/{epochs}, Loss: {loss:.4f}, Accuracy: {acc:.2f}')\n",
    "\n",
    "wandb.finish()"
   ]
  }
 ],
 "metadata": {
  "kernelspec": {
   "display_name": "venv",
   "language": "python",
   "name": "python3"
  },
  "language_info": {
   "codemirror_mode": {
    "name": "ipython",
    "version": 3
   },
   "file_extension": ".py",
   "mimetype": "text/x-python",
   "name": "python",
   "nbconvert_exporter": "python",
   "pygments_lexer": "ipython3",
   "version": "3.9.6"
  },
  "orig_nbformat": 4
 },
 "nbformat": 4,
 "nbformat_minor": 2
}
