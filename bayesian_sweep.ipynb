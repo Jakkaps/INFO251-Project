{
 "cells": [
  {
   "cell_type": "code",
   "execution_count": 1,
   "metadata": {},
   "outputs": [],
   "source": [
    "import torch\n",
    "from torch import nn\n",
    "import numpy as np\n",
    "from core.models.nts_net import NTSModel\n",
    "from torch.utils.data import DataLoader\n",
    "from tqdm import tqdm\n",
    "import wandb\n",
    "import settings\n",
    "\n",
    "device = torch.device(\"cuda\" if torch.cuda.is_available() else \"cpu\")"
   ]
  },
  {
   "attachments": {},
   "cell_type": "markdown",
   "metadata": {},
   "source": [
    "### Load dataset"
   ]
  },
  {
   "cell_type": "code",
   "execution_count": 2,
   "metadata": {},
   "outputs": [
    {
     "name": "stdout",
     "output_type": "stream",
     "text": [
      "Train data size: 670\n",
      "Val data size: 330\n"
     ]
    }
   ],
   "source": [
    "from torchvision.datasets import FGVCAircraft\n",
    "from torch.utils.data import Subset, random_split\n",
    "from torchvision.transforms import Compose, Normalize, Resize, ToTensor\n",
    "from PIL import Image\n",
    "\n",
    "\"\"\"\n",
    "Transforms\n",
    "\"\"\"\n",
    "img_mean, img_std = [0.485, 0.456, 0.406], [0.229, 0.224, 0.225]\n",
    "\n",
    "transform = Compose([\n",
    "  Resize((settings.IMAGE_HEIGHT, settings.IMAGE_WIDTH), Image.BILINEAR),\n",
    "  ToTensor(),\n",
    "  Normalize(mean=img_mean, std=img_std),\n",
    "])\n",
    "\n",
    "\"\"\"\n",
    "Load dataset\n",
    "\"\"\"\n",
    "dataset = FGVCAircraft(root=\"data\", split=\"train\", download=True, transform=transform)\n",
    "\n",
    "\"\"\"\n",
    "Split data\n",
    "\"\"\"\n",
    "\n",
    "# Create a smaller subset\n",
    "num_samples = len(dataset)\n",
    "subset_size = settings.N_SAMPLES\n",
    "rand_idxs = np.random.choice(range(num_samples), subset_size)\n",
    "subset = Subset(dataset, rand_idxs)\n",
    "\n",
    "\n",
    "# Create train-val split\n",
    "val_split = int(subset_size*settings.TEST_SIZE)\n",
    "with torch.random.fork_rng(devices=[device]):\n",
    "  torch.manual_seed(settings.SEED)\n",
    "  train_data, val_data = random_split(subset, [subset_size - val_split, val_split])\n",
    "\n",
    "print(\"Train data size:\", len(train_data))\n",
    "print(\"Val data size:\", len(val_data))"
   ]
  },
  {
   "attachments": {},
   "cell_type": "markdown",
   "metadata": {},
   "source": [
    "## Configure sweep"
   ]
  },
  {
   "cell_type": "code",
   "execution_count": 3,
   "metadata": {},
   "outputs": [],
   "source": [
    "CAT_NUM = 4 # NOTE: should be 4\n",
    "\n",
    "BATCH_SIZE = 8\n",
    "NUM_EPOCHS = 8\n",
    "\n",
    "# Random grid search\n",
    "NUM_TRIALS = 30 # number of random searches to run"
   ]
  },
  {
   "cell_type": "code",
   "execution_count": 8,
   "metadata": {},
   "outputs": [
    {
     "name": "stdout",
     "output_type": "stream",
     "text": [
      "Create sweep with ID: 0riwkaen\n",
      "Sweep URL: https://wandb.ai/info251-project/fgvca_aircraft/sweeps/0riwkaen\n"
     ]
    }
   ],
   "source": [
    "from torch.optim import SGD, Adagrad, Adam, RMSprop\n",
    "\n",
    "optimizers = {\n",
    "    \"sgd\": SGD,\n",
    "    \"adagrad\": Adagrad,\n",
    "    \"rmsprop\": RMSprop,\n",
    "    \"adam\": Adam,\n",
    "}\n",
    "\n",
    "sweep_configuration = {\n",
    "    \"method\": \"bayes\",\n",
    "    \"name\": \"sweep\",\n",
    "    \"metric\": {\"goal\": \"maximize\", \"name\": \"val_acc\"},\n",
    "    \"parameters\": {\n",
    "        \"lr\": {'max': 0.1, 'min': 0.0001},\n",
    "        \"momentum\": {\"max\": 0.95, \"min\": 0.1},\n",
    "        \"proposal_num\": {\"max\": 8, \"min\": 4},\n",
    "        \"weight_decay\": {'max': 1e-2, 'min': 1e-6},\n",
    "        \"optimizer\": {\"values\": list(optimizers.keys())},\n",
    "    }\n",
    "    \n",
    "}\n",
    "\n",
    "sweep_id = wandb.sweep(sweep=sweep_configuration, project=settings.WANDB_PROJECT_NAME)"
   ]
  },
  {
   "cell_type": "code",
   "execution_count": 9,
   "metadata": {},
   "outputs": [],
   "source": [
    "from core.loss import list_loss, ranking_loss\n",
    "\n",
    "def run_sweep():\n",
    "    run = wandb.init()\n",
    "    \n",
    "    proposal_num = wandb.config.proposal_num\n",
    "    optimizer = wandb.config.optimizer\n",
    "\n",
    "    optim_params = {\"lr\": wandb.config.lr, \"weight_decay\": wandb.config.weight_decay}\n",
    "    if optimizer == [\"sgd\", \"rmsprop\"]:\n",
    "        optim_params[\"momentum\"] = wandb.config.momentum\n",
    "    elif optimizer == \"adam\":\n",
    "        optim_params[\"betas\"] = (wandb.config.momentum, 0.999)\n",
    "\n",
    "    \"\"\"\n",
    "    Initialize dataloaders\n",
    "    \"\"\"\n",
    "    train_loader = DataLoader(train_data, batch_size=BATCH_SIZE, shuffle=True, num_workers=2)\n",
    "    val_loader = DataLoader(val_data, batch_size=BATCH_SIZE, shuffle=True, num_workers=2)\n",
    "\n",
    "    \"\"\"\n",
    "    Initialize model\n",
    "    \"\"\"\n",
    "    model = NTSModel(top_n=proposal_num, cat_num=CAT_NUM, n_classes=len(dataset.classes), image_height=settings.IMAGE_HEIGHT, image_width=settings.IMAGE_WIDTH).to(device)\n",
    "    criterion = torch.nn.CrossEntropyLoss()\n",
    "\n",
    "    \"\"\"\n",
    "    Setup optimizers\n",
    "    \"\"\"\n",
    "    resnet_parameters = list(model.resnet.parameters())\n",
    "    navigator_parameters = list(model.navigator.parameters())\n",
    "    concat_parameters = list(model.concat_net.parameters())\n",
    "    partcls_parameters = list(model.partcls_net.parameters())\n",
    "\n",
    "    resnet_optimizer = optimizers[optimizer](resnet_parameters, **optim_params)\n",
    "    navigator_optimizer = optimizers[optimizer](navigator_parameters, **optim_params)\n",
    "    concat_optimizer = optimizers[optimizer](concat_parameters, **optim_params)\n",
    "    partcls_optimizer = optimizers[optimizer](partcls_parameters, **optim_params)\n",
    "\n",
    "\n",
    "    model = nn.DataParallel(model)\n",
    "\n",
    "    history = {\n",
    "        \"train_loss\": [],\n",
    "        \"val_loss\": [],\n",
    "        \"train_accuracy\": [],\n",
    "        \"val_accuracy\": [],\n",
    "    }\n",
    "\n",
    "    for epoch in range(NUM_EPOCHS):\n",
    "\n",
    "        epoch_loss = 0\n",
    "        epoch_accuracy = 0\n",
    "        epoch_val_loss = 0\n",
    "        epoch_val_accuracy = 0\n",
    "        with tqdm(total=len(train_loader)) as pbar:\n",
    "            for i, (inputs, labels) in enumerate(train_loader):\n",
    "                inputs, labels = inputs.to(device), labels.to(device)\n",
    "                batch_size = inputs.size(0)\n",
    "\n",
    "                resnet_optimizer.zero_grad()\n",
    "                navigator_optimizer.zero_grad()\n",
    "                concat_optimizer.zero_grad()\n",
    "                partcls_optimizer.zero_grad()\n",
    "\n",
    "                resnet_logits, concat_logits, part_logits, top_n_idxs, top_n_proba = model(inputs)\n",
    "                \n",
    "                # Losses\n",
    "                resnet_loss = criterion(resnet_logits, labels)\n",
    "                navigator_loss = list_loss(part_logits.view(batch_size * proposal_num, -1),\n",
    "                                        labels.unsqueeze(1).repeat(1, proposal_num).view(-1)).view(batch_size, proposal_num)\n",
    "                concat_loss = criterion(concat_logits, labels)\n",
    "                rank_loss = ranking_loss(top_n_proba, navigator_loss, proposal_num=proposal_num)\n",
    "                partcls_loss = criterion(part_logits.view(batch_size * proposal_num, -1),\n",
    "                                    labels.unsqueeze(1).repeat(1, proposal_num).view(-1))\n",
    "                \n",
    "                loss = resnet_loss + concat_loss + rank_loss + partcls_loss\n",
    "                loss.backward()\n",
    "\n",
    "                resnet_optimizer.step()\n",
    "                navigator_optimizer.step()\n",
    "                concat_optimizer.step()\n",
    "                partcls_optimizer.step()\n",
    "\n",
    "                accuracy = (concat_logits.argmax(dim=1) == labels).float().mean()\n",
    "                \n",
    "                epoch_loss += concat_loss.item()\n",
    "                epoch_accuracy += accuracy.item()\n",
    "\n",
    "                pbar.set_postfix_str(\"Train loss: {:.4f}, Train accuracy: {:.4f}\".format(epoch_loss / (i+1), epoch_accuracy / (i+1)))\n",
    "                pbar.update(1)\n",
    "\n",
    "\n",
    "        with tqdm(total=(len(val_loader))) as pbar:\n",
    "            with torch.no_grad():\n",
    "                for i, (inputs, labels) in enumerate(val_loader):\n",
    "                    inputs, labels = inputs.to(device), labels.to(device)\n",
    "                    batch_size = inputs.size(0)\n",
    "\n",
    "                    _, concat_logits, _, _, _ = model(inputs)\n",
    "\n",
    "                    concat_loss = criterion(concat_logits, labels)\n",
    "                    \n",
    "\n",
    "                    accuracy = (concat_logits.argmax(dim=1) == labels).float().mean()\n",
    "\n",
    "                    epoch_val_loss += concat_loss.item()\n",
    "                    epoch_val_accuracy += accuracy.item()\n",
    "\n",
    "\n",
    "                    pbar.set_postfix_str(\"Val loss: {:.4f}, Val accuracy: {:.4f}\".format(epoch_val_loss / (i+1), epoch_val_accuracy / (i+1)))\n",
    "                    pbar.update(1)\n",
    "\n",
    "        epoch_loss = epoch_loss/len(train_loader)\n",
    "        epoch_val_loss = epoch_val_loss/len(val_loader)\n",
    "\n",
    "        epoch_accuracy = epoch_accuracy/len(train_loader)\n",
    "        epoch_val_accuracy = epoch_val_accuracy/len(val_loader)\n",
    "\n",
    "        history[\"train_loss\"].append(epoch_loss)\n",
    "        history[\"val_loss\"].append(epoch_val_loss)    \n",
    "\n",
    "        history[\"train_accuracy\"].append(epoch_accuracy)\n",
    "        history[\"val_accuracy\"].append(epoch_val_accuracy) \n",
    "\n",
    "        print(f\"Epoch {epoch+1} - Loss: {epoch_loss:.4f} - Accuracy: {epoch_accuracy:.4f} - Val Loss: {epoch_val_loss:.4f} - Val Accuracy: {epoch_val_accuracy:.4f}\")\n",
    "    \n",
    "        # Log to wandb\n",
    "        wandb.log({\n",
    "            'epoch': epoch+1, \n",
    "            'train_acc': epoch_accuracy,\n",
    "            'train_loss': epoch_loss, \n",
    "            'val_acc': epoch_val_accuracy, \n",
    "            'val_loss': epoch_val_loss\n",
    "        })"
   ]
  },
  {
   "cell_type": "code",
   "execution_count": 10,
   "metadata": {},
   "outputs": [
    {
     "name": "stderr",
     "output_type": "stream",
     "text": [
      "\u001b[34m\u001b[1mwandb\u001b[0m: Agent Starting Run: qohgnji5 with config:\n",
      "\u001b[34m\u001b[1mwandb\u001b[0m: \tlr: 0.08201755247479438\n",
      "\u001b[34m\u001b[1mwandb\u001b[0m: \tmomentum: 0.17691607455637787\n",
      "\u001b[34m\u001b[1mwandb\u001b[0m: \toptimizer: adagrad\n",
      "\u001b[34m\u001b[1mwandb\u001b[0m: \tproposal_num: 6\n",
      "\u001b[34m\u001b[1mwandb\u001b[0m: \tweight_decay: 0.0013594197983668064\n",
      "Failed to detect the name of this notebook, you can set it manually with the WANDB_NOTEBOOK_NAME environment variable to enable code saving.\n"
     ]
    },
    {
     "data": {
      "text/html": [
       "Tracking run with wandb version 0.15.0"
      ],
      "text/plain": [
       "<IPython.core.display.HTML object>"
      ]
     },
     "metadata": {},
     "output_type": "display_data"
    },
    {
     "data": {
      "text/html": [
       "Run data is saved locally in <code>c:\\Users\\simen\\Documents\\skole\\INFO251-Project\\wandb\\run-20230501_180832-qohgnji5</code>"
      ],
      "text/plain": [
       "<IPython.core.display.HTML object>"
      ]
     },
     "metadata": {},
     "output_type": "display_data"
    },
    {
     "data": {
      "text/html": [
       "Syncing run <strong><a href='https://wandb.ai/info251-project/fgvca_aircraft/runs/qohgnji5' target=\"_blank\">polar-sweep-1</a></strong> to <a href='https://wandb.ai/info251-project/fgvca_aircraft' target=\"_blank\">Weights & Biases</a> (<a href='https://wandb.me/run' target=\"_blank\">docs</a>)<br/>Sweep page: <a href='https://wandb.ai/info251-project/fgvca_aircraft/sweeps/0riwkaen' target=\"_blank\">https://wandb.ai/info251-project/fgvca_aircraft/sweeps/0riwkaen</a>"
      ],
      "text/plain": [
       "<IPython.core.display.HTML object>"
      ]
     },
     "metadata": {},
     "output_type": "display_data"
    },
    {
     "data": {
      "text/html": [
       " View project at <a href='https://wandb.ai/info251-project/fgvca_aircraft' target=\"_blank\">https://wandb.ai/info251-project/fgvca_aircraft</a>"
      ],
      "text/plain": [
       "<IPython.core.display.HTML object>"
      ]
     },
     "metadata": {},
     "output_type": "display_data"
    },
    {
     "data": {
      "text/html": [
       " View sweep at <a href='https://wandb.ai/info251-project/fgvca_aircraft/sweeps/0riwkaen' target=\"_blank\">https://wandb.ai/info251-project/fgvca_aircraft/sweeps/0riwkaen</a>"
      ],
      "text/plain": [
       "<IPython.core.display.HTML object>"
      ]
     },
     "metadata": {},
     "output_type": "display_data"
    },
    {
     "data": {
      "text/html": [
       " View run at <a href='https://wandb.ai/info251-project/fgvca_aircraft/runs/qohgnji5' target=\"_blank\">https://wandb.ai/info251-project/fgvca_aircraft/runs/qohgnji5</a>"
      ],
      "text/plain": [
       "<IPython.core.display.HTML object>"
      ]
     },
     "metadata": {},
     "output_type": "display_data"
    },
    {
     "name": "stderr",
     "output_type": "stream",
     "text": [
      "100%|██████████| 112/112 [03:27<00:00,  1.85s/it, Train loss: 7.5114, Train accuracy: 0.0104]\n",
      "100%|██████████| 55/55 [00:46<00:00,  1.18it/s, Val loss: 4.9264, Val accuracy: 0.0061]"
     ]
    },
    {
     "name": "stdout",
     "output_type": "stream",
     "text": [
      "Epoch 1 - Loss: 7.5114 - Accuracy: 0.0104 - Val Loss: 4.9264 - Val Accuracy: 0.0061\n"
     ]
    },
    {
     "name": "stderr",
     "output_type": "stream",
     "text": [
      "\n"
     ]
    },
    {
     "data": {
      "text/html": [
       "Waiting for W&B process to finish... <strong style=\"color:green\">(success).</strong>"
      ],
      "text/plain": [
       "<IPython.core.display.HTML object>"
      ]
     },
     "metadata": {},
     "output_type": "display_data"
    },
    {
     "data": {
      "application/vnd.jupyter.widget-view+json": {
       "model_id": "026957f2ba7f419eaa8a704e87d278dc",
       "version_major": 2,
       "version_minor": 0
      },
      "text/plain": [
       "VBox(children=(Label(value='0.001 MB of 0.001 MB uploaded (0.000 MB deduped)\\r'), FloatProgress(value=1.0, max…"
      ]
     },
     "metadata": {},
     "output_type": "display_data"
    },
    {
     "data": {
      "text/html": [
       "<style>\n",
       "    table.wandb td:nth-child(1) { padding: 0 10px; text-align: left ; width: auto;} td:nth-child(2) {text-align: left ; width: 100%}\n",
       "    .wandb-row { display: flex; flex-direction: row; flex-wrap: wrap; justify-content: flex-start; width: 100% }\n",
       "    .wandb-col { display: flex; flex-direction: column; flex-basis: 100%; flex: 1; padding: 10px; }\n",
       "    </style>\n",
       "<div class=\"wandb-row\"><div class=\"wandb-col\"><h3>Run history:</h3><br/><table class=\"wandb\"><tr><td>epoch</td><td>▁</td></tr><tr><td>train_acc</td><td>▁</td></tr><tr><td>train_loss</td><td>▁</td></tr><tr><td>val_acc</td><td>▁</td></tr><tr><td>val_loss</td><td>▁</td></tr></table><br/></div><div class=\"wandb-col\"><h3>Run summary:</h3><br/><table class=\"wandb\"><tr><td>epoch</td><td>1</td></tr><tr><td>train_acc</td><td>0.01042</td></tr><tr><td>train_loss</td><td>7.51138</td></tr><tr><td>val_acc</td><td>0.00606</td></tr><tr><td>val_loss</td><td>4.92636</td></tr></table><br/></div></div>"
      ],
      "text/plain": [
       "<IPython.core.display.HTML object>"
      ]
     },
     "metadata": {},
     "output_type": "display_data"
    },
    {
     "data": {
      "text/html": [
       " View run <strong style=\"color:#cdcd00\">polar-sweep-1</strong> at: <a href='https://wandb.ai/info251-project/fgvca_aircraft/runs/qohgnji5' target=\"_blank\">https://wandb.ai/info251-project/fgvca_aircraft/runs/qohgnji5</a><br/>Synced 6 W&B file(s), 0 media file(s), 0 artifact file(s) and 0 other file(s)"
      ],
      "text/plain": [
       "<IPython.core.display.HTML object>"
      ]
     },
     "metadata": {},
     "output_type": "display_data"
    },
    {
     "data": {
      "text/html": [
       "Find logs at: <code>.\\wandb\\run-20230501_180832-qohgnji5\\logs</code>"
      ],
      "text/plain": [
       "<IPython.core.display.HTML object>"
      ]
     },
     "metadata": {},
     "output_type": "display_data"
    },
    {
     "name": "stderr",
     "output_type": "stream",
     "text": [
      "\u001b[34m\u001b[1mwandb\u001b[0m: Agent Starting Run: y7fn8n75 with config:\n",
      "\u001b[34m\u001b[1mwandb\u001b[0m: \tlr: 0.03494514580033677\n",
      "\u001b[34m\u001b[1mwandb\u001b[0m: \tmomentum: 0.6676218140611027\n",
      "\u001b[34m\u001b[1mwandb\u001b[0m: \toptimizer: adam\n",
      "\u001b[34m\u001b[1mwandb\u001b[0m: \tproposal_num: 6\n",
      "\u001b[34m\u001b[1mwandb\u001b[0m: \tweight_decay: 0.0005050581614010104\n",
      "Failed to detect the name of this notebook, you can set it manually with the WANDB_NOTEBOOK_NAME environment variable to enable code saving.\n"
     ]
    },
    {
     "data": {
      "text/html": [
       "Tracking run with wandb version 0.15.0"
      ],
      "text/plain": [
       "<IPython.core.display.HTML object>"
      ]
     },
     "metadata": {},
     "output_type": "display_data"
    },
    {
     "data": {
      "text/html": [
       "Run data is saved locally in <code>c:\\Users\\simen\\Documents\\skole\\INFO251-Project\\wandb\\run-20230501_181311-y7fn8n75</code>"
      ],
      "text/plain": [
       "<IPython.core.display.HTML object>"
      ]
     },
     "metadata": {},
     "output_type": "display_data"
    },
    {
     "data": {
      "text/html": [
       "Syncing run <strong><a href='https://wandb.ai/info251-project/fgvca_aircraft/runs/y7fn8n75' target=\"_blank\">devoted-sweep-2</a></strong> to <a href='https://wandb.ai/info251-project/fgvca_aircraft' target=\"_blank\">Weights & Biases</a> (<a href='https://wandb.me/run' target=\"_blank\">docs</a>)<br/>Sweep page: <a href='https://wandb.ai/info251-project/fgvca_aircraft/sweeps/0riwkaen' target=\"_blank\">https://wandb.ai/info251-project/fgvca_aircraft/sweeps/0riwkaen</a>"
      ],
      "text/plain": [
       "<IPython.core.display.HTML object>"
      ]
     },
     "metadata": {},
     "output_type": "display_data"
    },
    {
     "data": {
      "text/html": [
       " View project at <a href='https://wandb.ai/info251-project/fgvca_aircraft' target=\"_blank\">https://wandb.ai/info251-project/fgvca_aircraft</a>"
      ],
      "text/plain": [
       "<IPython.core.display.HTML object>"
      ]
     },
     "metadata": {},
     "output_type": "display_data"
    },
    {
     "data": {
      "text/html": [
       " View sweep at <a href='https://wandb.ai/info251-project/fgvca_aircraft/sweeps/0riwkaen' target=\"_blank\">https://wandb.ai/info251-project/fgvca_aircraft/sweeps/0riwkaen</a>"
      ],
      "text/plain": [
       "<IPython.core.display.HTML object>"
      ]
     },
     "metadata": {},
     "output_type": "display_data"
    },
    {
     "data": {
      "text/html": [
       " View run at <a href='https://wandb.ai/info251-project/fgvca_aircraft/runs/y7fn8n75' target=\"_blank\">https://wandb.ai/info251-project/fgvca_aircraft/runs/y7fn8n75</a>"
      ],
      "text/plain": [
       "<IPython.core.display.HTML object>"
      ]
     },
     "metadata": {},
     "output_type": "display_data"
    },
    {
     "name": "stderr",
     "output_type": "stream",
     "text": [
      "100%|██████████| 112/112 [03:29<00:00,  1.87s/it, Train loss: 6.0732, Train accuracy: 0.0074]\n",
      "100%|██████████| 55/55 [00:47<00:00,  1.17it/s, Val loss: 5.4719, Val accuracy: 0.0030]"
     ]
    },
    {
     "name": "stdout",
     "output_type": "stream",
     "text": [
      "Epoch 1 - Loss: 6.0732 - Accuracy: 0.0074 - Val Loss: 5.4719 - Val Accuracy: 0.0030\n"
     ]
    },
    {
     "name": "stderr",
     "output_type": "stream",
     "text": [
      "\n"
     ]
    },
    {
     "data": {
      "text/html": [
       "Waiting for W&B process to finish... <strong style=\"color:green\">(success).</strong>"
      ],
      "text/plain": [
       "<IPython.core.display.HTML object>"
      ]
     },
     "metadata": {},
     "output_type": "display_data"
    },
    {
     "data": {
      "text/html": [
       "<style>\n",
       "    table.wandb td:nth-child(1) { padding: 0 10px; text-align: left ; width: auto;} td:nth-child(2) {text-align: left ; width: 100%}\n",
       "    .wandb-row { display: flex; flex-direction: row; flex-wrap: wrap; justify-content: flex-start; width: 100% }\n",
       "    .wandb-col { display: flex; flex-direction: column; flex-basis: 100%; flex: 1; padding: 10px; }\n",
       "    </style>\n",
       "<div class=\"wandb-row\"><div class=\"wandb-col\"><h3>Run history:</h3><br/><table class=\"wandb\"><tr><td>epoch</td><td>▁</td></tr><tr><td>train_acc</td><td>▁</td></tr><tr><td>train_loss</td><td>▁</td></tr><tr><td>val_acc</td><td>▁</td></tr><tr><td>val_loss</td><td>▁</td></tr></table><br/></div><div class=\"wandb-col\"><h3>Run summary:</h3><br/><table class=\"wandb\"><tr><td>epoch</td><td>1</td></tr><tr><td>train_acc</td><td>0.00744</td></tr><tr><td>train_loss</td><td>6.07319</td></tr><tr><td>val_acc</td><td>0.00303</td></tr><tr><td>val_loss</td><td>5.47191</td></tr></table><br/></div></div>"
      ],
      "text/plain": [
       "<IPython.core.display.HTML object>"
      ]
     },
     "metadata": {},
     "output_type": "display_data"
    },
    {
     "data": {
      "text/html": [
       " View run <strong style=\"color:#cdcd00\">devoted-sweep-2</strong> at: <a href='https://wandb.ai/info251-project/fgvca_aircraft/runs/y7fn8n75' target=\"_blank\">https://wandb.ai/info251-project/fgvca_aircraft/runs/y7fn8n75</a><br/>Synced 6 W&B file(s), 0 media file(s), 0 artifact file(s) and 0 other file(s)"
      ],
      "text/plain": [
       "<IPython.core.display.HTML object>"
      ]
     },
     "metadata": {},
     "output_type": "display_data"
    },
    {
     "data": {
      "text/html": [
       "Find logs at: <code>.\\wandb\\run-20230501_181311-y7fn8n75\\logs</code>"
      ],
      "text/plain": [
       "<IPython.core.display.HTML object>"
      ]
     },
     "metadata": {},
     "output_type": "display_data"
    }
   ],
   "source": [
    "wandb.agent(sweep_id, function=run_sweep, count=NUM_TRIALS)"
   ]
  }
 ],
 "metadata": {
  "kernelspec": {
   "display_name": "info",
   "language": "python",
   "name": "python3"
  },
  "language_info": {
   "codemirror_mode": {
    "name": "ipython",
    "version": 3
   },
   "file_extension": ".py",
   "mimetype": "text/x-python",
   "name": "python",
   "nbconvert_exporter": "python",
   "pygments_lexer": "ipython3",
   "version": "3.8.16"
  },
  "orig_nbformat": 4
 },
 "nbformat": 4,
 "nbformat_minor": 2
}
