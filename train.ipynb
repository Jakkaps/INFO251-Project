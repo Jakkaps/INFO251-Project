{
 "cells": [
  {
   "cell_type": "code",
   "execution_count": 24,
   "metadata": {},
   "outputs": [],
   "source": [
    "import os\n",
    "import json\n",
    "import warnings\n",
    "import numpy as np\n",
    "from settings import IMAGE_HEIGHT, IMAGE_WIDTH, OUT_DIR\n",
    "\n",
    "warnings.filterwarnings(\"ignore\")\n",
    "\n",
    "# Create output directory\n",
    "if not os.path.exists(OUT_DIR):\n",
    "    os.mkdir(OUT_DIR)"
   ]
  },
  {
   "attachments": {},
   "cell_type": "markdown",
   "metadata": {},
   "source": [
    "### Define the train function"
   ]
  },
  {
   "cell_type": "code",
   "execution_count": 25,
   "metadata": {},
   "outputs": [],
   "source": [
    "import glob\n",
    "from time import time\n",
    "import torch\n",
    "from tqdm import tqdm\n",
    "import torch.nn as nn\n",
    "from torch.utils.data import DataLoader\n",
    "from core.models.nts_net import NTSModel\n",
    "from core.loss import list_loss, ranking_loss\n",
    "from torch.optim.lr_scheduler import MultiStepLR\n",
    "import shutil\n",
    "\n",
    "def train(train, val, n_classes, epochs, batch_size, hr, scheduler_gamma=0.5):\n",
    "\n",
    "    # Identify device\n",
    "    device = torch.device(\"cuda\" if torch.cuda.is_available() else \"cpu\")\n",
    "\n",
    "    # Setup model output dir\n",
    "    folder_name = \"train_{}\".format(int(time()))\n",
    "    out_path = os.path.join(OUT_DIR, folder_name)\n",
    "    os.mkdir(out_path)\n",
    "\n",
    "    # Setup dataloader\n",
    "    train_loader = DataLoader(train, batch_size=batch_size, shuffle=True, num_workers=2)\n",
    "    val_loader = DataLoader(val, batch_size=batch_size, shuffle=True, num_workers=2)\n",
    "\n",
    "    model = NTSModel(top_n=hr[\"proposal_num\"], n_classes=n_classes, image_height=IMAGE_HEIGHT, image_width=IMAGE_WIDTH).to(device)\n",
    "    criterion = torch.nn.CrossEntropyLoss()\n",
    "\n",
    "    # Setup optimizers\n",
    "    resnet_parameters = list(model.resnet.parameters())\n",
    "    navigator_parameters = list(model.navigator.parameters())\n",
    "    concat_parameters = list(model.concat_net.parameters())\n",
    "    partcls_parameters = list(model.partcls_net.parameters())\n",
    "\n",
    "    resnet_optim_params = {\"lr\": hr[\"resnet_lr\"], \"weight_decay\": hr[\"resnet_weight_decay\"], \"momentum\": hr[\"resnet_momentum\"]}\n",
    "    navigator_optim_params = {\"lr\": hr[\"navigator_lr\"], \"weight_decay\": hr[\"navigator_weight_decay\"], \"momentum\": hr[\"navigator_momentum\"]}\n",
    "    concat_optim_params = {\"lr\": hr[\"concat_lr\"], \"weight_decay\": hr[\"concat_weight_decay\"], \"momentum\": hr[\"concat_momentum\"]}\n",
    "    partcls_optim_params = {\"lr\": hr[\"partcls_lr\"], \"weight_decay\": hr[\"partcls_weight_decay\"], \"momentum\": hr[\"partcls_momentum\"]}\n",
    "\n",
    "    resnet_optimizer = torch.optim.SGD(resnet_parameters, **resnet_optim_params)\n",
    "    navigator_optimizer = torch.optim.SGD(navigator_parameters, **navigator_optim_params)\n",
    "    concat_optimizer = torch.optim.SGD(concat_parameters, **concat_optim_params)\n",
    "    partcls_optimizer = torch.optim.SGD(partcls_parameters, **partcls_optim_params)\n",
    "\n",
    "    # Setup learning rate scheduler\n",
    "    scheduler_interval = [int(epochs*0.25), int(epochs*0.5), int(epochs*0.75)]\n",
    "\n",
    "    schedulers = [MultiStepLR(resnet_optimizer, milestones=scheduler_interval, gamma=scheduler_gamma),\n",
    "                MultiStepLR(navigator_optimizer, milestones=scheduler_interval, gamma=scheduler_gamma),\n",
    "                MultiStepLR(concat_optimizer, milestones=scheduler_interval, gamma=scheduler_gamma),\n",
    "                MultiStepLR(partcls_optimizer, milestones=scheduler_interval, gamma=scheduler_gamma)]\n",
    "\n",
    "    model = nn.DataParallel(model)\n",
    "\n",
    "    history = {\n",
    "        \"train_loss\": [],\n",
    "        \"val_loss\": [],\n",
    "        \"train_accuracy\": [],\n",
    "        \"val_accuracy\": [],\n",
    "    }\n",
    "\n",
    "    for epoch in range(epochs):\n",
    "\n",
    "        for scheduler in schedulers:\n",
    "            scheduler.step()\n",
    "\n",
    "        epoch_loss = 0\n",
    "        epoch_accuracy = 0\n",
    "        epoch_val_loss = 0\n",
    "        epoch_val_accuracy = 0\n",
    "        with tqdm(total=len(train_loader)) as pbar:\n",
    "            for i, (inputs, labels) in enumerate(train_loader):\n",
    "                inputs, labels = inputs.to(device), labels.to(device)\n",
    "                batch_size = inputs.size(0)\n",
    "\n",
    "                resnet_optimizer.zero_grad()\n",
    "                navigator_optimizer.zero_grad()\n",
    "                concat_optimizer.zero_grad()\n",
    "                partcls_optimizer.zero_grad()\n",
    "\n",
    "                resnet_logits, concat_logits, part_logits, top_n_idxs, top_n_proba = model(inputs)\n",
    "                \n",
    "                # Losses\n",
    "                resnet_loss = criterion(resnet_logits, labels)\n",
    "                navigator_loss = list_loss(part_logits.view(batch_size * hr[\"proposal_num\"], -1),\n",
    "                                        labels.unsqueeze(1).repeat(1, hr[\"proposal_num\"]).view(-1)).view(batch_size, hr[\"proposal_num\"])\n",
    "                concat_loss = criterion(concat_logits, labels)\n",
    "                rank_loss = ranking_loss(top_n_proba, navigator_loss, proposal_num=hr[\"proposal_num\"])\n",
    "                partcls_loss = criterion(part_logits.view(batch_size * hr[\"proposal_num\"], -1),\n",
    "                                    labels.unsqueeze(1).repeat(1, hr[\"proposal_num\"]).view(-1))\n",
    "                \n",
    "                loss = resnet_loss + concat_loss + rank_loss + partcls_loss\n",
    "                loss.backward()\n",
    "\n",
    "                resnet_optimizer.step()\n",
    "                navigator_optimizer.step()\n",
    "                concat_optimizer.step()\n",
    "                partcls_optimizer.step()\n",
    "\n",
    "                accuracy = (concat_logits.argmax(dim=1) == labels).float().mean()\n",
    "                \n",
    "                epoch_loss += concat_loss.item()\n",
    "                epoch_accuracy += accuracy.item()\n",
    "\n",
    "                pbar.set_postfix_str(\"Train loss: {:.4f}, Train accuracy: {:.4f}\".format(epoch_loss / (i+1), epoch_accuracy / (i+1)))\n",
    "                pbar.update(1)\n",
    "\n",
    "        with tqdm(total=(len(val_loader))) as pbar:\n",
    "            with torch.no_grad():\n",
    "                for i, (inputs, labels) in enumerate(val_loader):\n",
    "                    inputs, labels = inputs.to(device), labels.to(device)\n",
    "                    batch_size = inputs.size(0)\n",
    "\n",
    "                    _, concat_logits, _, _, _ = model(inputs)\n",
    "\n",
    "                    concat_loss = criterion(concat_logits, labels)\n",
    "                    \n",
    "\n",
    "                    accuracy = (concat_logits.argmax(dim=1) == labels).float().mean()\n",
    "\n",
    "                    epoch_val_loss += concat_loss.item()\n",
    "                    epoch_val_accuracy += accuracy.item()\n",
    "\n",
    "\n",
    "                    pbar.set_postfix_str(\"Val loss: {:.4f}, Val accuracy: {:.4f}\".format(epoch_val_loss / (i+1), epoch_val_accuracy / (i+1)))\n",
    "                    pbar.update(1)\n",
    "\n",
    "        epoch_loss = epoch_loss/len(train_loader)\n",
    "        epoch_val_loss = epoch_val_loss/len(val_loader)\n",
    "\n",
    "        epoch_accuracy = epoch_accuracy/len(train_loader)\n",
    "        epoch_val_accuracy = epoch_val_accuracy/len(val_loader)\n",
    "\n",
    "        history[\"train_loss\"].append(epoch_loss)\n",
    "        history[\"val_loss\"].append(epoch_val_loss)    \n",
    "\n",
    "        history[\"train_accuracy\"].append(epoch_accuracy)\n",
    "        history[\"val_accuracy\"].append(epoch_val_accuracy) \n",
    "\n",
    "        print(f\"Epoch {epoch+1} - Loss: {epoch_loss:.4f} - Accuracy: {epoch_accuracy:.4f} - Val Loss: {epoch_val_loss:.4f} - Val Accuracy: {epoch_val_accuracy:.4f}\")\n",
    "\n",
    "        torch.save({\n",
    "            \"train_accuracy\": history[\"train_accuracy\"][-1],\n",
    "            \"val_accuracy\": history[\"val_accuracy\"][-1],\n",
    "            \"proposal_num\": hr[\"proposal_num\"],\n",
    "            \"n_classes\": n_classes,\n",
    "            \"state_dict\": model.module.state_dict(),\n",
    "        }, os.path.join(out_path, f\"epoch_{epoch+1}.ckpt\"))\n",
    "\n",
    "\n",
    "    # Remove all but the best checkpoints\n",
    "    best_epoch_idx = np.argmax(history[\"val_accuracy\"])\n",
    "    os.rename(os.path.join(out_path, f\"epoch_{best_epoch_idx + 1}.ckpt\"), os.path.join(out_path, \"model.ckpt\"))\n",
    "\n",
    "    for file in glob.glob(f\"{out_path}/**\"):\n",
    "        if not file.endswith('model.ckpt'):    \n",
    "                os.remove(file)\n",
    "\n",
    "    # Update latest model weights\n",
    "    src = os.path.join(out_path, \"model.ckpt\")\n",
    "    dst = os.path.join(OUT_DIR, \"latest_model.ckpt\")\n",
    "    shutil.copyfile(src, dst)\n",
    "\n",
    "    # Report best\n",
    "    print(\"Best epoch:\", best_epoch_idx+1)\n",
    "    print(\"Best val accuracy:\", history[\"val_accuracy\"][best_epoch_idx])\n",
    "\n",
    "    return history"
   ]
  },
  {
   "attachments": {},
   "cell_type": "markdown",
   "metadata": {},
   "source": [
    "### Load the train data"
   ]
  },
  {
   "cell_type": "code",
   "execution_count": 26,
   "metadata": {},
   "outputs": [
    {
     "name": "stdout",
     "output_type": "stream",
     "text": [
      "Train data size: 6668\n",
      "Val data size: 3333\n"
     ]
    }
   ],
   "source": [
    "from torchvision.transforms import Compose, Resize, ToTensor, RandomHorizontalFlip, RandomCrop\n",
    "from torch.utils.data import ConcatDataset\n",
    "from torchvision.datasets import FGVCAircraft\n",
    "from PIL import Image\n",
    "\n",
    "transform = Compose([\n",
    "  Resize((IMAGE_HEIGHT, IMAGE_WIDTH), Image.BILINEAR),\n",
    "  ToTensor(),\n",
    "])\n",
    "\n",
    "augment_transform = Compose([\n",
    "    Resize((int(IMAGE_HEIGHT * 1.5), int(IMAGE_WIDTH * 1.5)), Image.BILINEAR),\n",
    "    RandomCrop((IMAGE_HEIGHT, IMAGE_WIDTH)),\n",
    "    RandomHorizontalFlip(),\n",
    "    ToTensor(),\n",
    "])\n",
    "\n",
    "val_transform = Compose([\n",
    "  Resize((IMAGE_HEIGHT, IMAGE_WIDTH), Image.BILINEAR),\n",
    "  ToTensor(),\n",
    "])\n",
    "\n",
    "# Load data\n",
    "train_data = FGVCAircraft(root=\"data\", split=\"train\", transform=transform, download=True)\n",
    "n_classes = len(train_data.classes)\n",
    "augmented_data = FGVCAircraft(root=\"data\", split=\"train\", transform=augment_transform, download=True)\n",
    "\n",
    "train_data = ConcatDataset([train_data, augmented_data])\n",
    "val_data = FGVCAircraft(root=\"data\", split=\"val\", transform=val_transform, download=True)\n",
    "\n",
    "print(\"Train data size:\", len(train_data))\n",
    "print(\"Val data size:\", len(val_data))"
   ]
  },
  {
   "attachments": {},
   "cell_type": "markdown",
   "metadata": {},
   "source": [
    "### Train the model"
   ]
  },
  {
   "cell_type": "code",
   "execution_count": 31,
   "metadata": {},
   "outputs": [
    {
     "name": "stdout",
     "output_type": "stream",
     "text": [
      "Hyperparameters:\n",
      "{'proposal_num': 4,\n",
      " 'concat_lr': 0.017421479104985847,\n",
      " 'resnet_lr': 0.023663449413508245,\n",
      " 'partcls_lr': 0.021992845516824015,\n",
      " 'navigator_lr': 0.008795790041545189,\n",
      " 'concat_momentum': 0.95,\n",
      " 'resnet_momentum': 0.95,\n",
      " 'partcls_momentum': 0.95,\n",
      " 'navigator_momentum': 0.95,\n",
      " 'concat_weight_decay': 0.009226112294479522,\n",
      " 'resnet_weight_decay': 0.00246484552746257,\n",
      " 'partcls_weight_decay': 0.005071394828965506,\n",
      " 'navigator_weight_decay': 0.001719879259014504}\n"
     ]
    }
   ],
   "source": [
    "from pprint import pprint\n",
    "# Load hyperparameters\n",
    "with open(\"hyperparameters.json\", \"r\") as f:\n",
    "    hr = json.load(f)\n",
    "\n",
    "print(\"Hyperparameters:\")\n",
    "pprint(hr, sort_dicts=False)"
   ]
  },
  {
   "cell_type": "code",
   "execution_count": 30,
   "metadata": {},
   "outputs": [
    {
     "name": "stderr",
     "output_type": "stream",
     "text": [
      "100%|██████████| 834/834 [03:47<00:00,  3.67it/s, Train loss: 3.9718, Train accuracy: 0.1081]\n",
      "100%|██████████| 417/417 [00:46<00:00,  8.97it/s, Val loss: 2.7748, Val accuracy: 0.2504]\n"
     ]
    },
    {
     "name": "stdout",
     "output_type": "stream",
     "text": [
      "Epoch 1 - Loss: 3.9718 - Accuracy: 0.1081 - Val Loss: 2.7748 - Val Accuracy: 0.2504\n"
     ]
    },
    {
     "name": "stderr",
     "output_type": "stream",
     "text": [
      "100%|██████████| 834/834 [03:48<00:00,  3.65it/s, Train loss: 1.9890, Train accuracy: 0.4388]\n",
      "100%|██████████| 417/417 [00:46<00:00,  9.00it/s, Val loss: 2.1023, Val accuracy: 0.4337]\n"
     ]
    },
    {
     "name": "stdout",
     "output_type": "stream",
     "text": [
      "Epoch 2 - Loss: 1.9890 - Accuracy: 0.4388 - Val Loss: 2.1023 - Val Accuracy: 0.4337\n"
     ]
    },
    {
     "name": "stderr",
     "output_type": "stream",
     "text": [
      "100%|██████████| 834/834 [03:48<00:00,  3.64it/s, Train loss: 1.1720, Train accuracy: 0.6416]\n",
      "100%|██████████| 417/417 [00:46<00:00,  8.93it/s, Val loss: 1.5060, Val accuracy: 0.5798]\n"
     ]
    },
    {
     "name": "stdout",
     "output_type": "stream",
     "text": [
      "Epoch 3 - Loss: 1.1720 - Accuracy: 0.6416 - Val Loss: 1.5060 - Val Accuracy: 0.5798\n"
     ]
    },
    {
     "name": "stderr",
     "output_type": "stream",
     "text": [
      "100%|██████████| 834/834 [03:48<00:00,  3.65it/s, Train loss: 0.7093, Train accuracy: 0.7735]\n",
      "100%|██████████| 417/417 [00:46<00:00,  9.03it/s, Val loss: 1.3271, Val accuracy: 0.6422]\n"
     ]
    },
    {
     "name": "stdout",
     "output_type": "stream",
     "text": [
      "Epoch 4 - Loss: 0.7093 - Accuracy: 0.7735 - Val Loss: 1.3271 - Val Accuracy: 0.6422\n"
     ]
    },
    {
     "name": "stderr",
     "output_type": "stream",
     "text": [
      "100%|██████████| 834/834 [03:48<00:00,  3.65it/s, Train loss: 0.4632, Train accuracy: 0.8471]\n",
      "100%|██████████| 417/417 [00:46<00:00,  8.99it/s, Val loss: 1.2129, Val accuracy: 0.6810]\n"
     ]
    },
    {
     "name": "stdout",
     "output_type": "stream",
     "text": [
      "Epoch 5 - Loss: 0.4632 - Accuracy: 0.8471 - Val Loss: 1.2129 - Val Accuracy: 0.6810\n"
     ]
    },
    {
     "name": "stderr",
     "output_type": "stream",
     "text": [
      "100%|██████████| 834/834 [03:48<00:00,  3.64it/s, Train loss: 0.2833, Train accuracy: 0.9053]\n",
      "100%|██████████| 417/417 [00:46<00:00,  9.00it/s, Val loss: 1.2551, Val accuracy: 0.6953]\n"
     ]
    },
    {
     "name": "stdout",
     "output_type": "stream",
     "text": [
      "Epoch 6 - Loss: 0.2833 - Accuracy: 0.9053 - Val Loss: 1.2551 - Val Accuracy: 0.6953\n"
     ]
    },
    {
     "name": "stderr",
     "output_type": "stream",
     "text": [
      "100%|██████████| 834/834 [03:48<00:00,  3.65it/s, Train loss: 0.1850, Train accuracy: 0.9379]\n",
      "100%|██████████| 417/417 [00:46<00:00,  9.00it/s, Val loss: 1.1060, Val accuracy: 0.7254]\n"
     ]
    },
    {
     "name": "stdout",
     "output_type": "stream",
     "text": [
      "Epoch 7 - Loss: 0.1850 - Accuracy: 0.9379 - Val Loss: 1.1060 - Val Accuracy: 0.7254\n"
     ]
    },
    {
     "name": "stderr",
     "output_type": "stream",
     "text": [
      "100%|██████████| 834/834 [03:48<00:00,  3.65it/s, Train loss: 0.1297, Train accuracy: 0.9559]\n",
      "100%|██████████| 417/417 [00:46<00:00,  9.03it/s, Val loss: 1.1672, Val accuracy: 0.7374]\n"
     ]
    },
    {
     "name": "stdout",
     "output_type": "stream",
     "text": [
      "Epoch 8 - Loss: 0.1297 - Accuracy: 0.9559 - Val Loss: 1.1672 - Val Accuracy: 0.7374\n"
     ]
    },
    {
     "name": "stderr",
     "output_type": "stream",
     "text": [
      "100%|██████████| 834/834 [03:49<00:00,  3.64it/s, Train loss: 0.0846, Train accuracy: 0.9732]\n",
      "100%|██████████| 417/417 [00:46<00:00,  9.01it/s, Val loss: 1.1476, Val accuracy: 0.7418]\n"
     ]
    },
    {
     "name": "stdout",
     "output_type": "stream",
     "text": [
      "Epoch 9 - Loss: 0.0846 - Accuracy: 0.9732 - Val Loss: 1.1476 - Val Accuracy: 0.7418\n"
     ]
    },
    {
     "name": "stderr",
     "output_type": "stream",
     "text": [
      "100%|██████████| 834/834 [03:48<00:00,  3.64it/s, Train loss: 0.0304, Train accuracy: 0.9919]\n",
      "100%|██████████| 417/417 [00:46<00:00,  9.03it/s, Val loss: 1.0146, Val accuracy: 0.7798]\n"
     ]
    },
    {
     "name": "stdout",
     "output_type": "stream",
     "text": [
      "Epoch 10 - Loss: 0.0304 - Accuracy: 0.9919 - Val Loss: 1.0146 - Val Accuracy: 0.7798\n"
     ]
    },
    {
     "name": "stderr",
     "output_type": "stream",
     "text": [
      "100%|██████████| 834/834 [03:49<00:00,  3.64it/s, Train loss: 0.0255, Train accuracy: 0.9924]\n",
      "100%|██████████| 417/417 [00:47<00:00,  8.69it/s, Val loss: 1.0543, Val accuracy: 0.7710]\n"
     ]
    },
    {
     "name": "stdout",
     "output_type": "stream",
     "text": [
      "Epoch 11 - Loss: 0.0255 - Accuracy: 0.9924 - Val Loss: 1.0543 - Val Accuracy: 0.7710\n"
     ]
    },
    {
     "name": "stderr",
     "output_type": "stream",
     "text": [
      "100%|██████████| 834/834 [03:48<00:00,  3.65it/s, Train loss: 0.0179, Train accuracy: 0.9951]\n",
      "100%|██████████| 417/417 [00:46<00:00,  9.04it/s, Val loss: 1.0693, Val accuracy: 0.7657]\n"
     ]
    },
    {
     "name": "stdout",
     "output_type": "stream",
     "text": [
      "Epoch 12 - Loss: 0.0179 - Accuracy: 0.9951 - Val Loss: 1.0693 - Val Accuracy: 0.7657\n"
     ]
    },
    {
     "name": "stderr",
     "output_type": "stream",
     "text": [
      "100%|██████████| 834/834 [03:48<00:00,  3.65it/s, Train loss: 0.0157, Train accuracy: 0.9960]\n",
      "100%|██████████| 417/417 [00:46<00:00,  8.96it/s, Val loss: 1.0414, Val accuracy: 0.7803]\n"
     ]
    },
    {
     "name": "stdout",
     "output_type": "stream",
     "text": [
      "Epoch 13 - Loss: 0.0157 - Accuracy: 0.9960 - Val Loss: 1.0414 - Val Accuracy: 0.7803\n"
     ]
    },
    {
     "name": "stderr",
     "output_type": "stream",
     "text": [
      "100%|██████████| 834/834 [03:48<00:00,  3.64it/s, Train loss: 0.0126, Train accuracy: 0.9957]\n",
      "100%|██████████| 417/417 [00:46<00:00,  8.97it/s, Val loss: 1.0035, Val accuracy: 0.7813]\n"
     ]
    },
    {
     "name": "stdout",
     "output_type": "stream",
     "text": [
      "Epoch 14 - Loss: 0.0126 - Accuracy: 0.9957 - Val Loss: 1.0035 - Val Accuracy: 0.7813\n"
     ]
    },
    {
     "name": "stderr",
     "output_type": "stream",
     "text": [
      "100%|██████████| 834/834 [03:48<00:00,  3.65it/s, Train loss: 0.0106, Train accuracy: 0.9972]\n",
      "100%|██████████| 417/417 [00:46<00:00,  8.98it/s, Val loss: 1.0206, Val accuracy: 0.7831]\n"
     ]
    },
    {
     "name": "stdout",
     "output_type": "stream",
     "text": [
      "Epoch 15 - Loss: 0.0106 - Accuracy: 0.9972 - Val Loss: 1.0206 - Val Accuracy: 0.7831\n"
     ]
    },
    {
     "name": "stderr",
     "output_type": "stream",
     "text": [
      "100%|██████████| 834/834 [03:48<00:00,  3.65it/s, Train loss: 0.0083, Train accuracy: 0.9976]\n",
      "100%|██████████| 417/417 [00:46<00:00,  8.97it/s, Val loss: 1.0437, Val accuracy: 0.7776]\n"
     ]
    },
    {
     "name": "stdout",
     "output_type": "stream",
     "text": [
      "Epoch 16 - Loss: 0.0083 - Accuracy: 0.9976 - Val Loss: 1.0437 - Val Accuracy: 0.7776\n"
     ]
    },
    {
     "name": "stderr",
     "output_type": "stream",
     "text": [
      "100%|██████████| 834/834 [03:48<00:00,  3.65it/s, Train loss: 0.0063, Train accuracy: 0.9985]\n",
      "100%|██████████| 417/417 [00:46<00:00,  9.02it/s, Val loss: 1.0259, Val accuracy: 0.7798]\n"
     ]
    },
    {
     "name": "stdout",
     "output_type": "stream",
     "text": [
      "Epoch 17 - Loss: 0.0063 - Accuracy: 0.9985 - Val Loss: 1.0259 - Val Accuracy: 0.7798\n"
     ]
    },
    {
     "name": "stderr",
     "output_type": "stream",
     "text": [
      "100%|██████████| 834/834 [03:48<00:00,  3.65it/s, Train loss: 0.0063, Train accuracy: 0.9987]\n",
      "100%|██████████| 417/417 [00:46<00:00,  8.95it/s, Val loss: 1.0283, Val accuracy: 0.7829]\n"
     ]
    },
    {
     "name": "stdout",
     "output_type": "stream",
     "text": [
      "Epoch 18 - Loss: 0.0063 - Accuracy: 0.9987 - Val Loss: 1.0283 - Val Accuracy: 0.7829\n"
     ]
    },
    {
     "name": "stderr",
     "output_type": "stream",
     "text": [
      "100%|██████████| 834/834 [03:48<00:00,  3.65it/s, Train loss: 0.0041, Train accuracy: 0.9993]\n",
      "100%|██████████| 417/417 [00:46<00:00,  8.99it/s, Val loss: 1.0303, Val accuracy: 0.7777]\n"
     ]
    },
    {
     "name": "stdout",
     "output_type": "stream",
     "text": [
      "Epoch 19 - Loss: 0.0041 - Accuracy: 0.9993 - Val Loss: 1.0303 - Val Accuracy: 0.7777\n"
     ]
    },
    {
     "name": "stderr",
     "output_type": "stream",
     "text": [
      "100%|██████████| 834/834 [03:49<00:00,  3.64it/s, Train loss: 0.0037, Train accuracy: 0.9993]\n",
      "100%|██████████| 417/417 [00:46<00:00,  9.04it/s, Val loss: 1.0550, Val accuracy: 0.7789]\n"
     ]
    },
    {
     "name": "stdout",
     "output_type": "stream",
     "text": [
      "Epoch 20 - Loss: 0.0037 - Accuracy: 0.9993 - Val Loss: 1.0550 - Val Accuracy: 0.7789\n"
     ]
    },
    {
     "name": "stderr",
     "output_type": "stream",
     "text": [
      "100%|██████████| 834/834 [03:48<00:00,  3.64it/s, Train loss: 0.0045, Train accuracy: 0.9985]\n",
      "100%|██████████| 417/417 [00:46<00:00,  8.97it/s, Val loss: 1.0446, Val accuracy: 0.7852]\n"
     ]
    },
    {
     "name": "stdout",
     "output_type": "stream",
     "text": [
      "Epoch 21 - Loss: 0.0045 - Accuracy: 0.9985 - Val Loss: 1.0446 - Val Accuracy: 0.7852\n"
     ]
    },
    {
     "name": "stderr",
     "output_type": "stream",
     "text": [
      "100%|██████████| 834/834 [03:48<00:00,  3.65it/s, Train loss: 0.0025, Train accuracy: 0.9994]\n",
      "100%|██████████| 417/417 [00:46<00:00,  9.00it/s, Val loss: 1.0249, Val accuracy: 0.7810]\n"
     ]
    },
    {
     "name": "stdout",
     "output_type": "stream",
     "text": [
      "Epoch 22 - Loss: 0.0025 - Accuracy: 0.9994 - Val Loss: 1.0249 - Val Accuracy: 0.7810\n"
     ]
    },
    {
     "name": "stderr",
     "output_type": "stream",
     "text": [
      "100%|██████████| 834/834 [03:48<00:00,  3.65it/s, Train loss: 0.0030, Train accuracy: 0.9994]\n",
      "100%|██████████| 417/417 [00:46<00:00,  9.02it/s, Val loss: 1.0196, Val accuracy: 0.7899]\n"
     ]
    },
    {
     "name": "stdout",
     "output_type": "stream",
     "text": [
      "Epoch 23 - Loss: 0.0030 - Accuracy: 0.9994 - Val Loss: 1.0196 - Val Accuracy: 0.7899\n"
     ]
    },
    {
     "name": "stderr",
     "output_type": "stream",
     "text": [
      "100%|██████████| 834/834 [03:48<00:00,  3.65it/s, Train loss: 0.0024, Train accuracy: 0.9999]\n",
      "100%|██████████| 417/417 [00:46<00:00,  8.99it/s, Val loss: 1.0035, Val accuracy: 0.7902]\n"
     ]
    },
    {
     "name": "stdout",
     "output_type": "stream",
     "text": [
      "Epoch 24 - Loss: 0.0024 - Accuracy: 0.9999 - Val Loss: 1.0035 - Val Accuracy: 0.7902\n"
     ]
    },
    {
     "name": "stderr",
     "output_type": "stream",
     "text": [
      "100%|██████████| 834/834 [03:50<00:00,  3.62it/s, Train loss: 0.0021, Train accuracy: 0.9999]\n",
      "100%|██████████| 417/417 [00:46<00:00,  9.01it/s, Val loss: 1.0003, Val accuracy: 0.7942]\n"
     ]
    },
    {
     "name": "stdout",
     "output_type": "stream",
     "text": [
      "Epoch 25 - Loss: 0.0021 - Accuracy: 0.9999 - Val Loss: 1.0003 - Val Accuracy: 0.7942\n"
     ]
    },
    {
     "name": "stderr",
     "output_type": "stream",
     "text": [
      "100%|██████████| 834/834 [03:48<00:00,  3.65it/s, Train loss: 0.0027, Train accuracy: 0.9997]\n",
      "100%|██████████| 417/417 [00:46<00:00,  8.98it/s, Val loss: 1.0345, Val accuracy: 0.7877]\n"
     ]
    },
    {
     "name": "stdout",
     "output_type": "stream",
     "text": [
      "Epoch 26 - Loss: 0.0027 - Accuracy: 0.9997 - Val Loss: 1.0345 - Val Accuracy: 0.7877\n"
     ]
    },
    {
     "name": "stderr",
     "output_type": "stream",
     "text": [
      "100%|██████████| 834/834 [03:48<00:00,  3.65it/s, Train loss: 0.0017, Train accuracy: 1.0000]\n",
      "100%|██████████| 417/417 [00:46<00:00,  9.00it/s, Val loss: 0.9945, Val accuracy: 0.7935]\n"
     ]
    },
    {
     "name": "stdout",
     "output_type": "stream",
     "text": [
      "Epoch 27 - Loss: 0.0017 - Accuracy: 1.0000 - Val Loss: 0.9945 - Val Accuracy: 0.7935\n"
     ]
    },
    {
     "name": "stderr",
     "output_type": "stream",
     "text": [
      "100%|██████████| 834/834 [03:49<00:00,  3.64it/s, Train loss: 0.0024, Train accuracy: 0.9997]\n",
      "100%|██████████| 417/417 [00:46<00:00,  8.98it/s, Val loss: 0.9779, Val accuracy: 0.7898]\n"
     ]
    },
    {
     "name": "stdout",
     "output_type": "stream",
     "text": [
      "Epoch 28 - Loss: 0.0024 - Accuracy: 0.9997 - Val Loss: 0.9779 - Val Accuracy: 0.7898\n"
     ]
    },
    {
     "name": "stderr",
     "output_type": "stream",
     "text": [
      "100%|██████████| 834/834 [03:48<00:00,  3.65it/s, Train loss: 0.0027, Train accuracy: 0.9991]\n",
      "100%|██████████| 417/417 [00:46<00:00,  9.00it/s, Val loss: 1.0086, Val accuracy: 0.7834]\n"
     ]
    },
    {
     "name": "stdout",
     "output_type": "stream",
     "text": [
      "Epoch 29 - Loss: 0.0027 - Accuracy: 0.9991 - Val Loss: 1.0086 - Val Accuracy: 0.7834\n"
     ]
    },
    {
     "name": "stderr",
     "output_type": "stream",
     "text": [
      "100%|██████████| 834/834 [03:48<00:00,  3.65it/s, Train loss: 0.0017, Train accuracy: 0.9999]\n",
      "100%|██████████| 417/417 [00:46<00:00,  8.95it/s, Val loss: 1.0294, Val accuracy: 0.7816]\n"
     ]
    },
    {
     "name": "stdout",
     "output_type": "stream",
     "text": [
      "Epoch 30 - Loss: 0.0017 - Accuracy: 0.9999 - Val Loss: 1.0294 - Val Accuracy: 0.7816\n"
     ]
    },
    {
     "name": "stderr",
     "output_type": "stream",
     "text": [
      "100%|██████████| 834/834 [03:48<00:00,  3.64it/s, Train loss: 0.0017, Train accuracy: 0.9996]\n",
      "100%|██████████| 417/417 [00:46<00:00,  9.01it/s, Val loss: 1.0420, Val accuracy: 0.7819]\n"
     ]
    },
    {
     "name": "stdout",
     "output_type": "stream",
     "text": [
      "Epoch 31 - Loss: 0.0017 - Accuracy: 0.9996 - Val Loss: 1.0420 - Val Accuracy: 0.7819\n"
     ]
    },
    {
     "name": "stderr",
     "output_type": "stream",
     "text": [
      "100%|██████████| 834/834 [03:48<00:00,  3.65it/s, Train loss: 0.0023, Train accuracy: 0.9994]\n",
      "100%|██████████| 417/417 [00:46<00:00,  8.97it/s, Val loss: 0.9831, Val accuracy: 0.7946]\n"
     ]
    },
    {
     "name": "stdout",
     "output_type": "stream",
     "text": [
      "Epoch 32 - Loss: 0.0023 - Accuracy: 0.9994 - Val Loss: 0.9831 - Val Accuracy: 0.7946\n"
     ]
    },
    {
     "name": "stderr",
     "output_type": "stream",
     "text": [
      "100%|██████████| 834/834 [03:48<00:00,  3.65it/s, Train loss: 0.0015, Train accuracy: 0.9997]\n",
      "100%|██████████| 417/417 [00:46<00:00,  8.95it/s, Val loss: 0.9896, Val accuracy: 0.7911]\n"
     ]
    },
    {
     "name": "stdout",
     "output_type": "stream",
     "text": [
      "Epoch 33 - Loss: 0.0015 - Accuracy: 0.9997 - Val Loss: 0.9896 - Val Accuracy: 0.7911\n"
     ]
    },
    {
     "name": "stderr",
     "output_type": "stream",
     "text": [
      "100%|██████████| 834/834 [03:48<00:00,  3.65it/s, Train loss: 0.0014, Train accuracy: 0.9999]\n",
      "100%|██████████| 417/417 [00:46<00:00,  8.98it/s, Val loss: 0.9900, Val accuracy: 0.7956]\n"
     ]
    },
    {
     "name": "stdout",
     "output_type": "stream",
     "text": [
      "Epoch 34 - Loss: 0.0014 - Accuracy: 0.9999 - Val Loss: 0.9900 - Val Accuracy: 0.7956\n"
     ]
    },
    {
     "name": "stderr",
     "output_type": "stream",
     "text": [
      "100%|██████████| 834/834 [03:48<00:00,  3.64it/s, Train loss: 0.0016, Train accuracy: 0.9997]\n",
      "100%|██████████| 417/417 [00:46<00:00,  8.97it/s, Val loss: 0.9978, Val accuracy: 0.7882]\n"
     ]
    },
    {
     "name": "stdout",
     "output_type": "stream",
     "text": [
      "Epoch 35 - Loss: 0.0016 - Accuracy: 0.9997 - Val Loss: 0.9978 - Val Accuracy: 0.7882\n"
     ]
    },
    {
     "name": "stderr",
     "output_type": "stream",
     "text": [
      "100%|██████████| 834/834 [03:48<00:00,  3.64it/s, Train loss: 0.0018, Train accuracy: 0.9997]\n",
      "100%|██████████| 417/417 [00:46<00:00,  8.96it/s, Val loss: 1.0078, Val accuracy: 0.7966]\n"
     ]
    },
    {
     "name": "stdout",
     "output_type": "stream",
     "text": [
      "Epoch 36 - Loss: 0.0018 - Accuracy: 0.9997 - Val Loss: 1.0078 - Val Accuracy: 0.7966\n"
     ]
    },
    {
     "name": "stderr",
     "output_type": "stream",
     "text": [
      "100%|██████████| 834/834 [03:48<00:00,  3.64it/s, Train loss: 0.0018, Train accuracy: 0.9997]\n",
      "100%|██████████| 417/417 [00:46<00:00,  8.96it/s, Val loss: 1.0108, Val accuracy: 0.7981]\n"
     ]
    },
    {
     "name": "stdout",
     "output_type": "stream",
     "text": [
      "Epoch 37 - Loss: 0.0018 - Accuracy: 0.9997 - Val Loss: 1.0108 - Val Accuracy: 0.7981\n"
     ]
    },
    {
     "name": "stderr",
     "output_type": "stream",
     "text": [
      "100%|██████████| 834/834 [03:49<00:00,  3.63it/s, Train loss: 0.0012, Train accuracy: 1.0000]\n",
      "100%|██████████| 417/417 [00:46<00:00,  9.00it/s, Val loss: 1.0241, Val accuracy: 0.7894]\n"
     ]
    },
    {
     "name": "stdout",
     "output_type": "stream",
     "text": [
      "Epoch 38 - Loss: 0.0012 - Accuracy: 1.0000 - Val Loss: 1.0241 - Val Accuracy: 0.7894\n"
     ]
    },
    {
     "name": "stderr",
     "output_type": "stream",
     "text": [
      "100%|██████████| 834/834 [03:48<00:00,  3.65it/s, Train loss: 0.0017, Train accuracy: 0.9997]\n",
      "100%|██████████| 417/417 [00:46<00:00,  8.99it/s, Val loss: 0.9799, Val accuracy: 0.7995]\n"
     ]
    },
    {
     "name": "stdout",
     "output_type": "stream",
     "text": [
      "Epoch 39 - Loss: 0.0017 - Accuracy: 0.9997 - Val Loss: 0.9799 - Val Accuracy: 0.7995\n"
     ]
    },
    {
     "name": "stderr",
     "output_type": "stream",
     "text": [
      "100%|██████████| 834/834 [03:49<00:00,  3.63it/s, Train loss: 0.0012, Train accuracy: 0.9997]\n",
      "100%|██████████| 417/417 [00:47<00:00,  8.84it/s, Val loss: 0.9945, Val accuracy: 0.7861]\n"
     ]
    },
    {
     "name": "stdout",
     "output_type": "stream",
     "text": [
      "Epoch 40 - Loss: 0.0012 - Accuracy: 0.9997 - Val Loss: 0.9945 - Val Accuracy: 0.7861\n",
      "Best epoch: 39\n",
      "Best val accuracy: 0.7994604316546763\n"
     ]
    }
   ],
   "source": [
    "NUM_EPOCHS = 40\n",
    "BATCH_SIZE = 8\n",
    "\n",
    "history = train(train_data, val_data, n_classes=n_classes, epochs=NUM_EPOCHS, batch_size=BATCH_SIZE, hr=hr)"
   ]
  },
  {
   "attachments": {},
   "cell_type": "markdown",
   "metadata": {},
   "source": [
    "### Plot train history"
   ]
  },
  {
   "cell_type": "code",
   "execution_count": 29,
   "metadata": {},
   "outputs": [
    {
     "data": {
      "image/png": "[encoded data removed]",
      "text/plain": [
       "<Figure size 1200x600 with 2 Axes>"
      ]
     },
     "metadata": {},
     "output_type": "display_data"
    }
   ],
   "source": [
    "import matplotlib.pyplot as plt\n",
    "fig, ax = plt.subplots(1, 2, figsize=(12, 6))\n",
    "xticks = np.arange(1, len(history[\"train_accuracy\"]) + 1)\n",
    "\n",
    "ax[0].plot(history[\"train_accuracy\"], label=\"train\")\n",
    "ax[0].plot(history[\"val_accuracy\"], label=\"val\")\n",
    "ax[0].set_xticks(np.arange(len(history[\"train_accuracy\"])), xticks)\n",
    "ax[0].set_xlabel(\"Epoch\")\n",
    "ax[0].set_ylabel(\"Accuracy\")\n",
    "ax[0].legend()\n",
    "ax[0].set_title(\"Train vs. Val accuracy\")\n",
    "\n",
    "ax[1].plot(history[\"train_loss\"], label=\"train\")\n",
    "ax[1].plot(history[\"val_loss\"], label=\"val\")\n",
    "ax[1].set_xticks(np.arange(len(history[\"train_accuracy\"])), xticks)\n",
    "ax[1].set_xlabel(\"Epoch\")\n",
    "ax[1].set_ylabel(\"Loss\")\n",
    "ax[1].legend()\n",
    "ax[1].set_title(\"Train vs. Val Loss\")\n",
    "plt.show()"
   ]
  }
 ],
 "metadata": {
  "kernelspec": {
   "display_name": "info",
   "language": "python",
   "name": "python3"
  },
  "language_info": {
   "codemirror_mode": {
    "name": "ipython",
    "version": 3
   },
   "file_extension": ".py",
   "mimetype": "text/x-python",
   "name": "python",
   "nbconvert_exporter": "python",
   "pygments_lexer": "ipython3",
   "version": "3.8.16"
  },
  "orig_nbformat": 4
 },
 "nbformat": 4,
 "nbformat_minor": 2
}
