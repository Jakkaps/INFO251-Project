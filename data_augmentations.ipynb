{
  "cells": [
    {
      "cell_type": "code",
      "execution_count": 22,
      "metadata": {
        "id": "Uqfm6xmAv2xa"
      },
      "outputs": [],
      "source": [
        "import torch\n",
        "import torch.nn as nn\n",
        "from torchvision.datasets import FGVCAircraft\n",
        "from torchvision import transforms\n",
        "from torch.utils.data import DataLoader\n",
        "\n",
        "from tqdm import tqdm\n",
        "import os\n",
        "import numpy as np\n",
        "import matplotlib.pyplot as plt\n",
        "\n",
        "from custom_dataset import FGVCAircraftAugmented\n",
        "from core.models.nts_net import NTSModel\n",
        "from core.loss import list_loss, ranking_loss"
      ]
    },
    {
      "cell_type": "code",
      "execution_count": 23,
      "metadata": {
        "id": "D-FHFE0ANJKs"
      },
      "outputs": [],
      "source": [
        "device = torch.device(\"cuda\" if torch.cuda.is_available() else \"cpu\")"
      ]
    },
    {
      "attachments": {},
      "cell_type": "markdown",
      "metadata": {
        "id": "ScKK1WfgM5tW"
      },
      "source": [
        "### Training"
      ]
    },
    {
      "cell_type": "code",
      "execution_count": 24,
      "metadata": {},
      "outputs": [],
      "source": [
        "OUT_DIR = \"results\"\n",
        "\n",
        "IMAGE_WIDTH = IMAGE_HEIGHT = 224\n",
        "NUM_WORKERS = 0\n",
        "\n",
        "PROPOSAL_NUM = 6\n",
        "CAT_NUM = 4\n",
        "\n",
        "BATCH_SIZE = 8\n",
        "LR = 0.001\n",
        "WEIGHT_DECAY = 1e-4\n",
        "MOMENTUM = 0.9\n",
        "NUM_EPOCHS = 5"
      ]
    },
    {
      "cell_type": "code",
      "execution_count": 25,
      "metadata": {
        "id": "Ft9wO_10m5Mq"
      },
      "outputs": [],
      "source": [
        "from torchvision.transforms import Compose, Normalize, Resize, ToTensor, RandomHorizontalFlip, RandomCrop, RandomPerspective, GaussianBlur\n",
        "from torch.utils.data import DataLoader, ConcatDataset\n",
        "from PIL import Image\n",
        "import torch.utils.data as data_utils\n",
        "\n",
        "indices = torch.arange(1_000)\n",
        "\n",
        "img_mean, img_std = [0.485, 0.456, 0.406], [0.229, 0.224, 0.225]\n",
        "\n",
        "transform = Compose([\n",
        "  Resize((IMAGE_HEIGHT, IMAGE_WIDTH), Image.BILINEAR),\n",
        "  ToTensor(),\n",
        "  Normalize(mean=img_mean, std=img_std),\n",
        "])\n",
        "\n",
        "target_transform = ToTensor()\n",
        "\n",
        "augmentations = {'horizontal_flip': transforms.RandomHorizontalFlip(p=1.0)}\n",
        "\n",
        "# Load data\n",
        "root = 'data'\n",
        "val_data = FGVCAircraft(root=root, split=\"val\", transform=transform, download=True)\n",
        "n_classes = len(val_data.classes)\n",
        "val_data = data_utils.Subset(val_data, indices)\n",
        "val_loader = DataLoader(val_data, batch_size=BATCH_SIZE, shuffle=False, num_workers=NUM_WORKERS)"
      ]
    },
    {
      "cell_type": "code",
      "execution_count": 26,
      "metadata": {
        "id": "OcuY4XKid6OU"
      },
      "outputs": [],
      "source": [
        "from torch.optim.lr_scheduler import MultiStepLR\n",
        "\n",
        "def train_model(train_loader, val_loader, experiment_name, num_epochs=5):\n",
        "  #val_loader = DataLoader(val_data, batch_size=BATCH_SIZE, shuffle=True, num_workers=NUM_WORKERS)\n",
        "\n",
        "  model = NTSModel(top_n=PROPOSAL_NUM, n_classes=n_classes).to(device)\n",
        "  criterion = torch.nn.CrossEntropyLoss()\n",
        "\n",
        "  # Setup optimizers\n",
        "  resnet_parameters = list(model.resnet.parameters())\n",
        "  navigator_parameters = list(model.navigator.parameters())\n",
        "  concat_parameters = list(model.concat_net.parameters())\n",
        "  partcls_parameters = list(model.partcls_net.parameters())\n",
        "\n",
        "  resnet_optimizer = torch.optim.SGD(resnet_parameters, lr=LR, momentum=MOMENTUM, weight_decay=WEIGHT_DECAY)\n",
        "  navigator_optimizer = torch.optim.SGD(navigator_parameters, lr=LR, momentum=MOMENTUM, weight_decay=WEIGHT_DECAY)\n",
        "  concat_optimizer = torch.optim.SGD(concat_parameters, lr=LR, momentum=MOMENTUM, weight_decay=WEIGHT_DECAY)\n",
        "  partcls_optimizer = torch.optim.SGD(partcls_parameters, lr=LR, momentum=MOMENTUM, weight_decay=WEIGHT_DECAY)\n",
        "\n",
        "\n",
        "  # Setup learning rate scheduler\n",
        "  scheduler_interval = [int(num_epochs * 0.5), int(num_epochs * 0.75)]\n",
        "  scheduler_gamma = 0.1\n",
        "\n",
        "  schedulers = [MultiStepLR(resnet_optimizer, milestones=scheduler_interval, gamma=scheduler_gamma),\n",
        "                MultiStepLR(navigator_optimizer, milestones=scheduler_interval, gamma=scheduler_gamma),\n",
        "                MultiStepLR(concat_optimizer, milestones=scheduler_interval, gamma=scheduler_gamma),\n",
        "                MultiStepLR(partcls_optimizer, milestones=scheduler_interval, gamma=scheduler_gamma)]\n",
        "\n",
        "  model = nn.DataParallel(model)\n",
        "\n",
        "  ########################### TRAIN ##################################\n",
        "  history = {\n",
        "      \"train_loss\": [],\n",
        "      \"val_loss\": [],\n",
        "      \"train_accuracy\": [],\n",
        "      \"val_accuracy\": [],\n",
        "  }\n",
        "\n",
        "  for epoch in range(num_epochs):\n",
        "\n",
        "      for scheduler in schedulers:\n",
        "          scheduler.step()\n",
        "\n",
        "      epoch_loss = 0\n",
        "      epoch_accuracy = 0\n",
        "      epoch_val_loss = 0\n",
        "      epoch_val_accuracy = 0\n",
        "      with tqdm(total=len(train_loader)) as pbar:\n",
        "          for i, (inputs, labels) in enumerate(train_loader):\n",
        "              inputs, labels = inputs.to(device), labels.to(device)\n",
        "              batch_size = inputs.size(0)\n",
        "\n",
        "              resnet_optimizer.zero_grad()\n",
        "              navigator_optimizer.zero_grad()\n",
        "              concat_optimizer.zero_grad()\n",
        "              partcls_optimizer.zero_grad()\n",
        "\n",
        "              resnet_logits, concat_logits, part_logits, top_n_idxs, top_n_proba = model(inputs)\n",
        "              \n",
        "              # Losses\n",
        "              resnet_loss = criterion(resnet_logits, labels)\n",
        "              navigator_loss = list_loss(part_logits.view(batch_size * PROPOSAL_NUM, -1),\n",
        "                                      labels.unsqueeze(1).repeat(1, PROPOSAL_NUM).view(-1)).view(batch_size, PROPOSAL_NUM)\n",
        "              concat_loss = criterion(concat_logits, labels)\n",
        "              rank_loss = ranking_loss(top_n_proba, navigator_loss, proposal_num=PROPOSAL_NUM)\n",
        "              partcls_loss = criterion(part_logits.view(batch_size * PROPOSAL_NUM, -1),\n",
        "                                  labels.unsqueeze(1).repeat(1, PROPOSAL_NUM).view(-1))\n",
        "              \n",
        "              loss = resnet_loss + concat_loss + rank_loss + partcls_loss\n",
        "              loss.backward()\n",
        "\n",
        "              resnet_optimizer.step()\n",
        "              navigator_optimizer.step()\n",
        "              concat_optimizer.step()\n",
        "              partcls_optimizer.step()\n",
        "\n",
        "              accuracy = (concat_logits.argmax(dim=1) == labels).float().mean()\n",
        "              \n",
        "              epoch_loss += concat_loss.item()\n",
        "              epoch_accuracy += accuracy.item()\n",
        "\n",
        "              pbar.set_postfix_str(\"Train loss: {:.4f}, Train accuracy: {:.4f}\".format(epoch_loss / (i+1), epoch_accuracy / (i+1)))\n",
        "              pbar.update(1)\n",
        "      \n",
        "      with tqdm(total=(len(val_loader))) as pbar:\n",
        "        with torch.no_grad():\n",
        "          for i, (inputs, labels) in enumerate(val_loader):\n",
        "            inputs, labels = inputs.to(device), labels.to(device)\n",
        "            batch_size = inputs.size(0)\n",
        "\n",
        "            _, concat_logits, _, _, _ = model(inputs)\n",
        "\n",
        "            concat_loss = criterion(concat_logits, labels)\n",
        "\n",
        "\n",
        "            accuracy = (concat_logits.argmax(dim=1) == labels).float().mean()\n",
        "\n",
        "            epoch_val_loss += concat_loss.item()\n",
        "            epoch_val_accuracy += accuracy.item()\n",
        "\n",
        "\n",
        "            pbar.set_postfix_str(\"Val loss: {:.4f}, Val accuracy: {:.4f}\".format(epoch_val_loss / (i+1), epoch_val_accuracy / (i+1)))\n",
        "            pbar.update(1)\n",
        "\n",
        "        epoch_val_loss = epoch_val_loss/len(val_loader)\n",
        "        history[\"val_loss\"].append(epoch_val_loss)\n",
        "        epoch_val_accuracy = epoch_val_accuracy/len(val_loader)\n",
        "        history[\"val_accuracy\"].append(epoch_val_accuracy) \n",
        "\n",
        "      epoch_loss = epoch_loss/len(train_loader)\n",
        "      epoch_accuracy = epoch_accuracy/len(train_loader)\n",
        "      history[\"train_loss\"].append(epoch_loss)\n",
        "      history[\"train_accuracy\"].append(epoch_accuracy)\n",
        "\n",
        "      print(f\"Epoch {epoch+1} - Loss: {epoch_loss:.4f} - Accuracy: {epoch_accuracy:.4f} - Val Loss: {epoch_val_loss:.4f} - Val Accuracy: {epoch_val_accuracy:.4f}\")\n",
        "\n",
        "\n",
        "  # Save model weights\n",
        "  out_path = os.path.join(OUT_DIR)\n",
        "  if not os.path.exists(out_path):\n",
        "    os.mkdir(out_path)\n",
        "\n",
        "  torch.save({\n",
        "      \"train_accuracy\": history[\"train_accuracy\"][-1],\n",
        "      \"val_accuracy\": history[\"val_accuracy\"][-1]\n",
        "  }, os.path.join(out_path, f\"{experiment_name}.ckpt\"))"
      ]
    },
    {
      "cell_type": "markdown",
      "metadata": {
        "id": "szqTf98eN9w_"
      },
      "source": [
        "# Experiments"
      ]
    },
    {
      "cell_type": "code",
      "execution_count": 27,
      "metadata": {
        "id": "kTq6gtpUBJLy"
      },
      "outputs": [],
      "source": [
        "indices_500 = torch.arange(500)\n",
        "\n",
        "td_plain = data_utils.Subset(FGVCAircraft(root=root, split=\"train\", transform=transform), indices_500)\n",
        "plain_loader = DataLoader(td_plain, batch_size=BATCH_SIZE, shuffle=True, num_workers=NUM_WORKERS)\n",
        "\n",
        "td_ver_flip = data_utils.Subset(FGVCAircraftAugmented(root=root, split=\"train\", transform=transform, augmentations={'vertical_flip': transforms.RandomVerticalFlip(p=1.0)}), indices)\n",
        "ver_flip_loader = DataLoader(td_ver_flip, batch_size=BATCH_SIZE, shuffle=True, num_workers=NUM_WORKERS)\n",
        "\n",
        "td_hor_flip = data_utils.Subset(FGVCAircraftAugmented(root=root, split=\"train\", transform=transform, augmentations={'horizontal_flip': transforms.RandomHorizontalFlip(p=1.0)}), indices)\n",
        "hor_flip_loader = DataLoader(td_hor_flip, batch_size=BATCH_SIZE, shuffle=True, num_workers=NUM_WORKERS)\n",
        "\n",
        "td_rot = data_utils.Subset(FGVCAircraftAugmented(root=root, split=\"train\", transform=transform, augmentations={'rotate': transforms.RandomRotation((-180, 180))}), indices)\n",
        "rot_loader = DataLoader(td_rot, batch_size=BATCH_SIZE, shuffle=True, num_workers=NUM_WORKERS)\n",
        "\n",
        "td_crop = data_utils.Subset(FGVCAircraftAugmented(root=root, split=\"train\", transform=transform, augmentations={'crop': transforms.RandomCrop((200, 200))}), indices)\n",
        "crop_loader = DataLoader(td_crop, batch_size=BATCH_SIZE, shuffle=True, num_workers=NUM_WORKERS)\n",
        "\n",
        "td_col_jit = data_utils.Subset(FGVCAircraftAugmented(root=root, split=\"train\", transform=transform, augmentations={'jitter': transforms.ColorJitter(brightness=0.4, contrast=0.4, saturation=0.4, hue=0.1)}), indices)\n",
        "jit_loader = DataLoader(td_col_jit, batch_size=BATCH_SIZE, shuffle=True, num_workers=NUM_WORKERS)\n",
        "\n",
        "td_gaus_noise = data_utils.Subset(FGVCAircraftAugmented(root=root, split=\"train\", transform=transform, augmentations={'gaus': transforms.GaussianBlur(kernel_size=3)}), indices)\n",
        "gaus_loader = DataLoader(td_gaus_noise, batch_size=BATCH_SIZE, shuffle=True, num_workers=NUM_WORKERS)"
      ]
    },
    {
      "cell_type": "code",
      "execution_count": null,
      "metadata": {},
      "outputs": [],
      "source": [
        "''' For masking, takes a lot of time\n",
        "td_mask = FGVCAircraftAugmented(root=root, split=\"train\", transform=transform, number_of_mask_channels=5)\n",
        "mask_loader =  DataLoader(td_mask, batch_size=1, shuffle=True, num_workers=NUM_WORKERS)\n",
        "'''"
      ]
    },
    {
      "cell_type": "code",
      "execution_count": 32,
      "metadata": {},
      "outputs": [
        {
          "data": {
            "text/plain": [
              "'Uncomment to train\\ntrain_model(plain_loader, val_loader, \"plain\")\\ntrain_model(ver_flip_loader, val_loader, \"vertical_flip\")\\ntrain_model(hor_flip_loader, val_loader, \"horizontal_flip\")\\ntrain_model(rot_loader, val_loader, \"rotate\")\\ntrain_model(crop_loader, val_loader, \"crop\")\\ntrain_model(jit_loader, val_loader, \"jitter\")\\ntrain_model(gaus_loader, val_loader, \"gaus\")\\n'"
            ]
          },
          "execution_count": 32,
          "metadata": {},
          "output_type": "execute_result"
        }
      ],
      "source": [
        "'''Uncomment to train\n",
        "train_model(plain_loader, val_loader, \"plain\")\n",
        "train_model(ver_flip_loader, val_loader, \"vertical_flip\")\n",
        "train_model(hor_flip_loader, val_loader, \"horizontal_flip\")\n",
        "train_model(rot_loader, val_loader, \"rotate\")\n",
        "train_model(crop_loader, val_loader, \"crop\")\n",
        "train_model(jit_loader, val_loader, \"jitter\")\n",
        "train_model(gaus_loader, val_loader, \"gaus\")\n",
        "'''"
      ]
    },
    {
      "cell_type": "code",
      "execution_count": 37,
      "metadata": {
        "colab": {
          "base_uri": "https://localhost:8080/",
          "height": 252
        },
        "id": "dPz-4LK28Qv6",
        "outputId": "3c715ecf-f6e0-4043-b42f-11e95a8fc443"
      },
      "outputs": [
        {
          "data": {
            "image/png": "[encoded data removed]",
            "text/plain": [
              "<Figure size 1000x1000 with 1 Axes>"
            ]
          },
          "metadata": {},
          "output_type": "display_data"
        },
        {
          "data": {
            "image/png": "[encoded data removed]",
            "text/plain": [
              "<Figure size 1000x1000 with 1 Axes>"
            ]
          },
          "metadata": {},
          "output_type": "display_data"
        }
      ],
      "source": [
        "import matplotlib.pyplot as plt\n",
        "\n",
        "def generate_data_augment_table(root, augmentations, baseline='plain', fig_name='result.png'):\n",
        "  table = [['Augmentation', r'$\\Delta$ Train Accuracy', r'$\\Delta$ Validation Accuracy']]\n",
        "\n",
        "  baseline_ckpt = torch.load(os.path.join(root, f\"{baseline}.ckpt\"))\n",
        "  baseline_ta = baseline_ckpt[\"train_accuracy\"]\n",
        "  baseline_va = baseline_ckpt[\"val_accuracy\"]\n",
        "\n",
        "  for aug in augmentations:\n",
        "    checkpoint = torch.load(os.path.join(root, f\"{aug}.ckpt\"))\n",
        "    train_accuracy = checkpoint[\"train_accuracy\"]\n",
        "    val_accuracy = checkpoint[\"val_accuracy\"]\n",
        "\n",
        "    train_diff_perc = (train_accuracy - baseline_ta) * 100\n",
        "    val_diff_perc = (val_accuracy - baseline_va) * 100\n",
        "\n",
        "    train_diff_sign = '+' if train_diff_perc >= 0 else ''\n",
        "    val_diff_sign = '+' if val_diff_perc >= 0 else ''\n",
        "\n",
        "    table.append([aug, f'{train_diff_sign}{train_diff_perc:.2f}%', f'{val_diff_sign}{val_diff_perc:.2f}%'])\n",
        "  \n",
        "  fig, ax = plt.subplots(figsize=(20, 20), facecolor='black')\n",
        "  ax.axis(\"off\")\n",
        "  table = ax.table(cellText=table, loc='top')\n",
        "  plt.savefig(os.path.join(root, fig_name))\n",
        "  plt.show()\n",
        "\n",
        "generate_data_augment_table('results', ['vertical_flip', 'horizontal_flip', 'rotate', 'crop', 'jitter', 'gaus'], fig_name='data_augmentations.png')\n",
        "generate_data_augment_table('results', ['mask'], baseline='no_mask', fig_name='masking.png')"
      ]
    },
    {
      "cell_type": "code",
      "execution_count": null,
      "metadata": {
        "id": "nhclTAjPKdkF"
      },
      "outputs": [],
      "source": []
    }
  ],
  "metadata": {
    "accelerator": "GPU",
    "colab": {
      "collapsed_sections": [
        "ehCaxNq7EluS",
        "ScKK1WfgM5tW"
      ],
      "provenance": []
    },
    "gpuClass": "standard",
    "kernelspec": {
      "display_name": "Python 3",
      "name": "python3"
    },
    "language_info": {
      "codemirror_mode": {
        "name": "ipython",
        "version": 3
      },
      "file_extension": ".py",
      "mimetype": "text/x-python",
      "name": "python",
      "nbconvert_exporter": "python",
      "pygments_lexer": "ipython3",
      "version": "3.9.6"
    }
  },
  "nbformat": 4,
  "nbformat_minor": 0
}
